{
  "nbformat": 4,
  "nbformat_minor": 0,
  "metadata": {
    "colab": {
      "provenance": [],
      "authorship_tag": "ABX9TyNxa3nrTNHWcRJa7oGR5NqE",
      "include_colab_link": true
    },
    "kernelspec": {
      "name": "python3",
      "display_name": "Python 3"
    },
    "language_info": {
      "name": "python"
    }
  },
  "cells": [
    {
      "cell_type": "markdown",
      "metadata": {
        "id": "view-in-github",
        "colab_type": "text"
      },
      "source": [
        "<a href=\"https://colab.research.google.com/github/Hiago-Cavalcante/Ia_DFS_BFS/blob/main/Projeto_Final_IA_1.ipynb\" target=\"_parent\"><img src=\"https://colab.research.google.com/assets/colab-badge.svg\" alt=\"Open In Colab\"/></a>"
      ]
    },
    {
      "cell_type": "code",
      "source": [
        "import requests\n",
        "import time\n",
        "import pandas as pd\n",
        "from concurrent.futures import ThreadPoolExecutor, as_completed\n",
        "import queue\n",
        "import threading\n",
        "import random"
      ],
      "metadata": {
        "id": "R3-W27WuWCWG"
      },
      "execution_count": 31,
      "outputs": []
    },
    {
      "cell_type": "code",
      "source": [
        "\n",
        "\n",
        "class DotaAPICollector:\n",
        "    def __init__(self, base_url=\"https://api.opendota.com/api\", max_requests_per_minute=60):\n",
        "        self.BASE_URL = base_url\n",
        "        self.MAX_REQUESTS_PER_MINUTE = max_requests_per_minute\n",
        "        self.request_queue = queue.Queue()\n",
        "        self.processed_ids = set()\n",
        "        self.matches_data = []\n",
        "        self.lock = threading.Lock()\n",
        "        self.retry_delay = 60  # Tempo de espera inicial em segundos\n",
        "\n",
        "    def get_public_match_ids(self, batch_size=100):\n",
        "        while True:\n",
        "            try:\n",
        "                response = requests.get(f\"{self.BASE_URL}/proMatches\")\n",
        "                if response.status_code == 200:\n",
        "                    matches = response.json()\n",
        "                    return [match['match_id'] for match in matches[:batch_size]]\n",
        "                elif response.status_code == 429:\n",
        "                    print(\"Rate limit atingido. Aguardando...\")\n",
        "                    time.sleep(self.retry_delay)\n",
        "                    self.retry_delay *= 2  # Exponential backoff\n",
        "                    continue\n",
        "                else:\n",
        "                    print(f\"Erro ao acessar publicMatches: {response.status_code}\")\n",
        "                    return []\n",
        "            except Exception as e:\n",
        "                print(f\"Erro na coleta de match IDs: {e}\")\n",
        "                time.sleep(self.retry_delay)\n",
        "                return []\n",
        "\n",
        "    def get_match_details(self, match_id):\n",
        "        while True:\n",
        "            try:\n",
        "                response = requests.get(f\"{self.BASE_URL}/matches/{match_id}\")\n",
        "                if response.status_code == 200:\n",
        "                    match_data = response.json()\n",
        "                    return {\n",
        "                        \"Match_ID\": match_id,\n",
        "                        \"Radiant_Heroes\": [pick['hero_id'] for pick in match_data.get('picks_bans', []) if pick['team'] == 0],\n",
        "                        \"Dire_Heroes\": [pick['hero_id'] for pick in match_data.get('picks_bans', []) if pick['team'] == 1],\n",
        "                        \"Radiant_Win\": match_data.get('radiant_win', False)\n",
        "                    }\n",
        "                elif response.status_code == 429:\n",
        "                    wait_time = random.uniform(60, 120)\n",
        "                    print(f\"Rate limit. Aguardando {wait_time:.2f} segundos...\")\n",
        "                    time.sleep(wait_time)\n",
        "                    continue\n",
        "                else:\n",
        "                    print(f\"Erro {response.status_code} no match {match_id}\")\n",
        "                    return None\n",
        "            except Exception as e:\n",
        "                print(f\"Erro ao processar match_id {match_id}: {e}\")\n",
        "                time.sleep(random.uniform(30, 60))\n",
        "                return None\n",
        "\n",
        "    def collect_matches(self, total_matches=1000):\n",
        "        while len(self.matches_data) < total_matches:\n",
        "            # Obtém novos match IDs\n",
        "            match_ids = self.get_public_match_ids()\n",
        "\n",
        "            # Processamento em threads\n",
        "            with ThreadPoolExecutor(max_workers=10) as executor:\n",
        "                futures = {\n",
        "                    executor.submit(self.get_match_details, match_id): match_id\n",
        "                    for match_id in match_ids\n",
        "                    if match_id not in self.processed_ids\n",
        "                }\n",
        "\n",
        "                for future in as_completed(futures):\n",
        "                    match_details = future.result()\n",
        "                    if match_details:\n",
        "                        with self.lock:\n",
        "                            self.matches_data.append(match_details)\n",
        "                            self.processed_ids.add(match_details['Match_ID'])\n",
        "                            print(f\"Coletados: {len(self.matches_data)} / {total_matches}\")\n",
        "\n",
        "                    # Para coleta se atingir limite\n",
        "                    if len(self.matches_data) >= total_matches:\n",
        "                        break\n",
        "\n",
        "            # Pausa entre lotes\n",
        "            time.sleep(random.uniform(5, 10))\n",
        "\n",
        "        return self.matches_data\n",
        "\n",
        "# Uso\n",
        "if __name__ == \"__main__\":\n",
        "    collector = DotaAPICollector()\n",
        "    matches = collector.collect_matches(total_matches=300)\n",
        "\n",
        "    # Salva dados\n",
        "    pd.DataFrame(matches).to_csv(\"dota_matches.csv\", index=False)\n",
        "    print(f\"Coleta concluída. Total de matches: {len(matches)}\")"
      ],
      "metadata": {
        "colab": {
          "base_uri": "https://localhost:8080/",
          "height": 1000
        },
        "id": "uXpcnxOEvQYG",
        "outputId": "85860e24-5fbc-420f-a496-1c3e020a85ad",
        "collapsed": true
      },
      "execution_count": 88,
      "outputs": [
        {
          "output_type": "stream",
          "name": "stdout",
          "text": [
            "Coletados: 1 / 300\n",
            "Coletados: 2 / 300\n",
            "Coletados: 3 / 300\n",
            "Coletados: 4 / 300\n",
            "Coletados: 5 / 300\n",
            "Coletados: 6 / 300\n",
            "Coletados: 7 / 300\n",
            "Coletados: 8 / 300\n",
            "Coletados: 9 / 300\n",
            "Coletados: 10 / 300\n",
            "Coletados: 11 / 300\n",
            "Coletados: 12 / 300\n",
            "Coletados: 13 / 300\n",
            "Coletados: 14 / 300\n",
            "Coletados: 15 / 300\n",
            "Coletados: 16 / 300\n",
            "Coletados: 17 / 300\n",
            "Coletados: 18 / 300\n",
            "Coletados: 19 / 300\n",
            "Coletados: 20 / 300\n",
            "Coletados: 21 / 300\n",
            "Coletados: 22 / 300\n",
            "Coletados: 23 / 300\n",
            "Coletados: 24 / 300\n",
            "Coletados: 25 / 300\n",
            "Coletados: 26 / 300\n",
            "Coletados: 27 / 300\n",
            "Coletados: 28 / 300\n",
            "Coletados: 29 / 300\n",
            "Coletados: 30 / 300\n",
            "Coletados: 31 / 300\n",
            "Coletados: 32 / 300\n",
            "Coletados: 33 / 300\n",
            "Coletados: 34 / 300\n",
            "Coletados: 35 / 300\n",
            "Coletados: 36 / 300\n",
            "Coletados: 37 / 300\n",
            "Coletados: 38 / 300\n",
            "Coletados: 39 / 300\n",
            "Coletados: 40 / 300\n",
            "Coletados: 41 / 300\n",
            "Coletados: 42 / 300\n",
            "Coletados: 43 / 300\n",
            "Coletados: 44 / 300\n",
            "Coletados: 45 / 300\n",
            "Coletados: 46 / 300\n",
            "Coletados: 47 / 300\n",
            "Coletados: 48 / 300\n",
            "Coletados: 49 / 300\n",
            "Coletados: 50 / 300\n",
            "Coletados: 51 / 300\n",
            "Coletados: 52 / 300\n",
            "Coletados: 53 / 300\n",
            "Coletados: 54 / 300\n",
            "Coletados: 55 / 300\n",
            "Coletados: 56 / 300\n",
            "Coletados: 57 / 300\n",
            "Coletados: 58 / 300\n",
            "Coletados: 59 / 300\n",
            "Coletados: 60 / 300\n",
            "Coletados: 61 / 300\n",
            "Coletados: 62 / 300\n",
            "Coletados: 63 / 300\n",
            "Coletados: 64 / 300\n",
            "Coletados: 65 / 300\n",
            "Coletados: 66 / 300\n",
            "Coletados: 67 / 300\n",
            "Coletados: 68 / 300\n",
            "Coletados: 69 / 300\n",
            "Rate limit. Aguardando 68.80 segundos...\n",
            "Rate limit. Aguardando 117.06 segundos...\n",
            "Rate limit. Aguardando 110.04 segundos...\n",
            "Rate limit. Aguardando 96.92 segundos...\n",
            "Rate limit. Aguardando 111.48 segundos...\n",
            "Coletados: 70 / 300\n",
            "Coletados: 71 / 300\n",
            "Rate limit. Aguardando 65.25 segundos...\n",
            "Coletados: 72 / 300\n",
            "Coletados: 73 / 300\n",
            "Coletados: 74 / 300\n",
            "Rate limit. Aguardando 75.63 segundos...\n",
            "Rate limit. Aguardando 115.25 segundos...\n",
            "Rate limit. Aguardando 99.27 segundos...\n",
            "Rate limit. Aguardando 108.57 segundos...\n",
            "Coletados: 75 / 300\n",
            "Coletados: 76 / 300\n",
            "Coletados: 77 / 300\n",
            "Coletados: 78 / 300\n",
            "Coletados: 79 / 300\n",
            "Coletados: 80 / 300\n",
            "Coletados: 81 / 300\n",
            "Coletados: 82 / 300\n",
            "Coletados: 83 / 300\n",
            "Coletados: 84 / 300\n",
            "Coletados: 85 / 300\n",
            "Coletados: 86 / 300\n",
            "Coletados: 87 / 300\n",
            "Coletados: 88 / 300\n",
            "Coletados: 89 / 300\n",
            "Coletados: 90 / 300\n",
            "Coletados: 91 / 300\n",
            "Coletados: 92 / 300\n",
            "Coletados: 93 / 300\n",
            "Coletados: 94 / 300\n",
            "Coletados: 95 / 300\n",
            "Coletados: 96 / 300\n",
            "Coletados: 97 / 300\n",
            "Coletados: 98 / 300\n",
            "Coletados: 99 / 300\n",
            "Coletados: 100 / 300\n"
          ]
        },
        {
          "output_type": "error",
          "ename": "KeyboardInterrupt",
          "evalue": "",
          "traceback": [
            "\u001b[0;31m---------------------------------------------------------------------------\u001b[0m",
            "\u001b[0;31mKeyboardInterrupt\u001b[0m                         Traceback (most recent call last)",
            "\u001b[0;32m<ipython-input-88-259f359299a2>\u001b[0m in \u001b[0;36m<cell line: 87>\u001b[0;34m()\u001b[0m\n\u001b[1;32m     87\u001b[0m \u001b[0;32mif\u001b[0m \u001b[0m__name__\u001b[0m \u001b[0;34m==\u001b[0m \u001b[0;34m\"__main__\"\u001b[0m\u001b[0;34m:\u001b[0m\u001b[0;34m\u001b[0m\u001b[0;34m\u001b[0m\u001b[0m\n\u001b[1;32m     88\u001b[0m     \u001b[0mcollector\u001b[0m \u001b[0;34m=\u001b[0m \u001b[0mDotaAPICollector\u001b[0m\u001b[0;34m(\u001b[0m\u001b[0;34m)\u001b[0m\u001b[0;34m\u001b[0m\u001b[0;34m\u001b[0m\u001b[0m\n\u001b[0;32m---> 89\u001b[0;31m     \u001b[0mmatches\u001b[0m \u001b[0;34m=\u001b[0m \u001b[0mcollector\u001b[0m\u001b[0;34m.\u001b[0m\u001b[0mcollect_matches\u001b[0m\u001b[0;34m(\u001b[0m\u001b[0mtotal_matches\u001b[0m\u001b[0;34m=\u001b[0m\u001b[0;36m300\u001b[0m\u001b[0;34m)\u001b[0m\u001b[0;34m\u001b[0m\u001b[0;34m\u001b[0m\u001b[0m\n\u001b[0m\u001b[1;32m     90\u001b[0m \u001b[0;34m\u001b[0m\u001b[0m\n\u001b[1;32m     91\u001b[0m     \u001b[0;31m# Salva dados\u001b[0m\u001b[0;34m\u001b[0m\u001b[0;34m\u001b[0m\u001b[0m\n",
            "\u001b[0;32m<ipython-input-88-259f359299a2>\u001b[0m in \u001b[0;36mcollect_matches\u001b[0;34m(self, total_matches)\u001b[0m\n\u001b[1;32m     80\u001b[0m \u001b[0;34m\u001b[0m\u001b[0m\n\u001b[1;32m     81\u001b[0m             \u001b[0;31m# Pausa entre lotes\u001b[0m\u001b[0;34m\u001b[0m\u001b[0;34m\u001b[0m\u001b[0m\n\u001b[0;32m---> 82\u001b[0;31m             \u001b[0mtime\u001b[0m\u001b[0;34m.\u001b[0m\u001b[0msleep\u001b[0m\u001b[0;34m(\u001b[0m\u001b[0mrandom\u001b[0m\u001b[0;34m.\u001b[0m\u001b[0muniform\u001b[0m\u001b[0;34m(\u001b[0m\u001b[0;36m5\u001b[0m\u001b[0;34m,\u001b[0m \u001b[0;36m10\u001b[0m\u001b[0;34m)\u001b[0m\u001b[0;34m)\u001b[0m\u001b[0;34m\u001b[0m\u001b[0;34m\u001b[0m\u001b[0m\n\u001b[0m\u001b[1;32m     83\u001b[0m \u001b[0;34m\u001b[0m\u001b[0m\n\u001b[1;32m     84\u001b[0m         \u001b[0;32mreturn\u001b[0m \u001b[0mself\u001b[0m\u001b[0;34m.\u001b[0m\u001b[0mmatches_data\u001b[0m\u001b[0;34m\u001b[0m\u001b[0;34m\u001b[0m\u001b[0m\n",
            "\u001b[0;31mKeyboardInterrupt\u001b[0m: "
          ]
        }
      ]
    },
    {
      "cell_type": "code",
      "source": [
        "df = pd.read_csv(\"dota_matches.csv\")\n",
        "\n",
        "# Visualizar as primeiras linhas\n",
        "print(df.head())\n",
        "\n",
        "# Obter informações sobre os dados\n",
        "print(df.info())\n",
        "print(df.describe())"
      ],
      "metadata": {
        "id": "3Qv8ACvlC7XE",
        "colab": {
          "base_uri": "https://localhost:8080/"
        },
        "outputId": "139d57ca-82ba-49b3-cb13-dcb688004f44"
      },
      "execution_count": 32,
      "outputs": [
        {
          "output_type": "stream",
          "name": "stdout",
          "text": [
            "     Match_ID                                     Radiant_Heroes  \\\n",
            "0  8058124306  [114, 89, 66, 73, 97, 65, 138, 107, 110, 15, 1...   \n",
            "1  8058103467  [110, 120, 70, 19, 93, 44, 97, 66, 23, 55, 51, 1]   \n",
            "2  8058139353   [110, 88, 94, 58, 84, 13, 49, 47, 65, 6, 73, 52]   \n",
            "3  8058023635  [114, 89, 73, 66, 107, 59, 65, 93, 58, 4, 69, ...   \n",
            "4  8058033530  [119, 104, 39, 17, 11, 25, 61, 96, 27, 46, 10,...   \n",
            "\n",
            "                                         Dire_Heroes  Radiant_Win  \n",
            "0  [98, 79, 49, 109, 26, 51, 45, 105, 19, 82, 135...        False  \n",
            "1  [119, 50, 112, 126, 84, 78, 26, 2, 17, 88, 9, 48]         True  \n",
            "2  [77, 74, 51, 62, 79, 119, 98, 86, 39, 38, 60, 93]         True  \n",
            "3  [79, 97, 49, 109, 26, 98, 138, 45, 17, 82, 33,...        False  \n",
            "4  [110, 120, 88, 66, 50, 55, 77, 73, 19, 112, 51...        False  \n",
            "<class 'pandas.core.frame.DataFrame'>\n",
            "RangeIndex: 100 entries, 0 to 99\n",
            "Data columns (total 4 columns):\n",
            " #   Column          Non-Null Count  Dtype \n",
            "---  ------          --------------  ----- \n",
            " 0   Match_ID        100 non-null    int64 \n",
            " 1   Radiant_Heroes  100 non-null    object\n",
            " 2   Dire_Heroes     100 non-null    object\n",
            " 3   Radiant_Win     100 non-null    bool  \n",
            "dtypes: bool(1), int64(1), object(2)\n",
            "memory usage: 2.6+ KB\n",
            "None\n",
            "           Match_ID\n",
            "count  1.000000e+02\n",
            "mean   8.057208e+09\n",
            "std    5.380330e+05\n",
            "min    8.056167e+09\n",
            "25%    8.056829e+09\n",
            "50%    8.057300e+09\n",
            "75%    8.057550e+09\n",
            "max    8.058139e+09\n"
          ]
        }
      ]
    },
    {
      "cell_type": "code",
      "source": [
        "import ast\n",
        "\n",
        "# Converter as colunas para listas reais\n",
        "df['Radiant_Heroes'] = df['Radiant_Heroes'].apply(ast.literal_eval)\n",
        "df['Dire_Heroes'] = df['Dire_Heroes'].apply(ast.literal_eval)\n"
      ],
      "metadata": {
        "id": "HKZIeyIpRURL"
      },
      "execution_count": 33,
      "outputs": []
    },
    {
      "cell_type": "code",
      "source": [
        "print(df['Radiant_Win'].value_counts(normalize=True))\n"
      ],
      "metadata": {
        "colab": {
          "base_uri": "https://localhost:8080/"
        },
        "id": "fVzHTvmzQoPN",
        "outputId": "1e291579-e745-4e2e-9eb4-e32cc13f1fc1"
      },
      "execution_count": 34,
      "outputs": [
        {
          "output_type": "stream",
          "name": "stdout",
          "text": [
            "Radiant_Win\n",
            "False    0.51\n",
            "True     0.49\n",
            "Name: proportion, dtype: float64\n"
          ]
        }
      ]
    },
    {
      "cell_type": "code",
      "source": [
        "from collections import Counter\n",
        "\n",
        "all_heroes = df['Radiant_Heroes'].explode().tolist() + df['Dire_Heroes'].explode().tolist()\n",
        "hero_counts = Counter(all_heroes)\n",
        "print(hero_counts.most_common(10))"
      ],
      "metadata": {
        "colab": {
          "base_uri": "https://localhost:8080/"
        },
        "id": "1OTcdgU2Q4zg",
        "outputId": "98fd6700-149d-4e65-ca4a-bf25ac4b07e4"
      },
      "execution_count": 35,
      "outputs": [
        {
          "output_type": "stream",
          "name": "stdout",
          "text": [
            "[(110, 60), (97, 57), (88, 56), (51, 55), (120, 49), (112, 48), (49, 45), (25, 43), (74, 40), (86, 39)]\n"
          ]
        }
      ]
    },
    {
      "cell_type": "code",
      "source": [
        "response = requests.get(\"https://api.opendota.com/api/heroes\")\n",
        "if response.status_code == 200:\n",
        "    heroes = response.json()\n",
        "    hero_map = {hero['id']: hero['localized_name'] for hero in heroes}\n",
        "\n",
        "    hero_counts_named = [(hero_map[hero_id], count) for hero_id, count in hero_counts.most_common(10)]\n",
        "    print(hero_counts_named)\n"
      ],
      "metadata": {
        "colab": {
          "base_uri": "https://localhost:8080/"
        },
        "id": "jlzqsjFSSB6C",
        "outputId": "c1e5cb32-ee5a-42a7-8adc-b8ce849e2c38"
      },
      "execution_count": 36,
      "outputs": [
        {
          "output_type": "stream",
          "name": "stdout",
          "text": [
            "[('Phoenix', 60), ('Magnus', 57), ('Nyx Assassin', 56), ('Clockwerk', 55), ('Pangolier', 49), ('Winter Wyvern', 48), ('Dragon Knight', 45), ('Lina', 43), ('Invoker', 40), ('Rubick', 39)]\n"
          ]
        }
      ]
    },
    {
      "cell_type": "code",
      "source": [
        "\n",
        "# URL da API para obter heróis\n",
        "heroes_url = \"https://api.opendota.com/api/heroes\"\n",
        "\n",
        "# Fazer a requisição\n",
        "response = requests.get(heroes_url)\n",
        "if response.status_code == 200:\n",
        "    heroes = response.json()\n",
        "    hero_id_to_name = {hero['id']: hero['localized_name'] for hero in heroes}\n",
        "    print(\"Mapeamento criado com sucesso!\")\n",
        "else:\n",
        "    print(f\"Erro ao acessar a API: {response.status_code}\")\n"
      ],
      "metadata": {
        "colab": {
          "base_uri": "https://localhost:8080/"
        },
        "id": "Dgh1tnXMYBqG",
        "outputId": "228b3de9-1050-4575-f535-65873a57c1bd"
      },
      "execution_count": 49,
      "outputs": [
        {
          "output_type": "stream",
          "name": "stdout",
          "text": [
            "Mapeamento criado com sucesso!\n"
          ]
        }
      ]
    },
    {
      "cell_type": "code",
      "source": [
        "print(hero_id_to_name)"
      ],
      "metadata": {
        "colab": {
          "base_uri": "https://localhost:8080/"
        },
        "id": "uYLzcBykYEs3",
        "outputId": "c3f12091-14c4-4531-80ac-5a7609a942e4"
      },
      "execution_count": 50,
      "outputs": [
        {
          "output_type": "stream",
          "name": "stdout",
          "text": [
            "{1: 'Anti-Mage', 2: 'Axe', 3: 'Bane', 4: 'Bloodseeker', 5: 'Crystal Maiden', 6: 'Drow Ranger', 7: 'Earthshaker', 8: 'Juggernaut', 9: 'Mirana', 10: 'Morphling', 11: 'Shadow Fiend', 12: 'Phantom Lancer', 13: 'Puck', 14: 'Pudge', 15: 'Razor', 16: 'Sand King', 17: 'Storm Spirit', 18: 'Sven', 19: 'Tiny', 20: 'Vengeful Spirit', 21: 'Windranger', 22: 'Zeus', 23: 'Kunkka', 25: 'Lina', 26: 'Lion', 27: 'Shadow Shaman', 28: 'Slardar', 29: 'Tidehunter', 30: 'Witch Doctor', 31: 'Lich', 32: 'Riki', 33: 'Enigma', 34: 'Tinker', 35: 'Sniper', 36: 'Necrophos', 37: 'Warlock', 38: 'Beastmaster', 39: 'Queen of Pain', 40: 'Venomancer', 41: 'Faceless Void', 42: 'Wraith King', 43: 'Death Prophet', 44: 'Phantom Assassin', 45: 'Pugna', 46: 'Templar Assassin', 47: 'Viper', 48: 'Luna', 49: 'Dragon Knight', 50: 'Dazzle', 51: 'Clockwerk', 52: 'Leshrac', 53: \"Nature's Prophet\", 54: 'Lifestealer', 55: 'Dark Seer', 56: 'Clinkz', 57: 'Omniknight', 58: 'Enchantress', 59: 'Huskar', 60: 'Night Stalker', 61: 'Broodmother', 62: 'Bounty Hunter', 63: 'Weaver', 64: 'Jakiro', 65: 'Batrider', 66: 'Chen', 67: 'Spectre', 68: 'Ancient Apparition', 69: 'Doom', 70: 'Ursa', 71: 'Spirit Breaker', 72: 'Gyrocopter', 73: 'Alchemist', 74: 'Invoker', 75: 'Silencer', 76: 'Outworld Destroyer', 77: 'Lycan', 78: 'Brewmaster', 79: 'Shadow Demon', 80: 'Lone Druid', 81: 'Chaos Knight', 82: 'Meepo', 83: 'Treant Protector', 84: 'Ogre Magi', 85: 'Undying', 86: 'Rubick', 87: 'Disruptor', 88: 'Nyx Assassin', 89: 'Naga Siren', 90: 'Keeper of the Light', 91: 'Io', 92: 'Visage', 93: 'Slark', 94: 'Medusa', 95: 'Troll Warlord', 96: 'Centaur Warrunner', 97: 'Magnus', 98: 'Timbersaw', 99: 'Bristleback', 100: 'Tusk', 101: 'Skywrath Mage', 102: 'Abaddon', 103: 'Elder Titan', 104: 'Legion Commander', 105: 'Techies', 106: 'Ember Spirit', 107: 'Earth Spirit', 108: 'Underlord', 109: 'Terrorblade', 110: 'Phoenix', 111: 'Oracle', 112: 'Winter Wyvern', 113: 'Arc Warden', 114: 'Monkey King', 119: 'Dark Willow', 120: 'Pangolier', 121: 'Grimstroke', 123: 'Hoodwink', 126: 'Void Spirit', 128: 'Snapfire', 129: 'Mars', 131: 'Ringmaster', 135: 'Dawnbreaker', 136: 'Marci', 137: 'Primal Beast', 138: 'Muerta', 145: 'Kez'}\n"
          ]
        }
      ]
    },
    {
      "cell_type": "code",
      "source": [
        "import matplotlib.pyplot as plt\n",
        "\n",
        "heroes, counts = zip(*hero_counts_named)\n",
        "plt.barh(heroes, counts, color='skyblue')\n",
        "plt.xlabel('Escolhas')\n",
        "plt.ylabel('Heróis')\n",
        "plt.title('Heróis Mais Escolhidos')\n",
        "plt.gca().invert_yaxis()\n",
        "plt.show()\n"
      ],
      "metadata": {
        "colab": {
          "base_uri": "https://localhost:8080/",
          "height": 472
        },
        "collapsed": true,
        "id": "yUcUwoEdT4X3",
        "outputId": "67c743ef-8340-4dfb-95c0-37b9f4107dc7"
      },
      "execution_count": 37,
      "outputs": [
        {
          "output_type": "display_data",
          "data": {
            "text/plain": [
              "<Figure size 640x480 with 1 Axes>"
            ],
            "image/png": "[encoded data removed]"
          },
          "metadata": {}
        }
      ]
    },
    {
      "cell_type": "code",
      "source": [
        "df_cleaned = df.dropna(subset=['Radiant_Heroes', 'Dire_Heroes'])"
      ],
      "metadata": {
        "id": "zUGgYtKLY1rh"
      },
      "execution_count": 56,
      "outputs": []
    },
    {
      "cell_type": "code",
      "source": [
        "win_rates_cleaned = {hero: rate for hero, rate in win_rates_named.items() if rate > 0}\n",
        "win_rates_named = {hero: (rate if not isinstance(rate, float) or not pd.isna(rate) else 0) for hero, rate in win_rates_named.items()}\n",
        "# Exibir resultados sem 'nan'\n",
        "print(\"Taxa de vitória dos heróis:\")\n",
        "for hero, win_rate in sorted(win_rates_named.items(), key=lambda x: x[1], reverse=True):\n",
        "    if win_rate > 0:\n",
        "        print(f\"{hero}: {win_rate:.2%}\")\n"
      ],
      "metadata": {
        "colab": {
          "base_uri": "https://localhost:8080/"
        },
        "id": "tsw433b6X3PC",
        "outputId": "cef6729a-0120-4abc-c24c-8a6fb2279d70"
      },
      "execution_count": 66,
      "outputs": [
        {
          "output_type": "stream",
          "name": "stdout",
          "text": [
            "Taxa de vitória dos heróis:\n",
            "Undying: 100.00%\n",
            "Silencer: 85.71%\n",
            "Enchantress: 80.95%\n",
            "Keeper of the Light: 80.00%\n",
            "Skywrath Mage: 80.00%\n",
            "Sven: 77.78%\n",
            "Legion Commander: 76.92%\n",
            "Arc Warden: 75.00%\n",
            "Venomancer: 75.00%\n",
            "Tidehunter: 75.00%\n",
            "Clinkz: 75.00%\n",
            "Treant Protector: 75.00%\n",
            "Riki: 75.00%\n",
            "Grimstroke: 71.43%\n",
            "Pugna: 69.23%\n",
            "Phoenix: 66.67%\n",
            "Oracle: 66.67%\n",
            "Nature's Prophet: 66.67%\n",
            "Faceless Void: 66.67%\n",
            "Death Prophet: 66.67%\n",
            "Puck: 65.62%\n",
            "Terrorblade: 64.71%\n",
            "Techies: 64.29%\n",
            "Bounty Hunter: 63.64%\n",
            "Disruptor: 63.64%\n",
            "Dark Seer: 62.50%\n",
            "Marci: 61.54%\n",
            "Gyrocopter: 61.11%\n",
            "Tiny: 60.87%\n",
            "Void Spirit: 60.87%\n",
            "Ursa: 60.00%\n",
            "Viper: 60.00%\n",
            "Troll Warlord: 60.00%\n",
            "Windranger: 60.00%\n",
            "Snapfire: 60.00%\n",
            "Underlord: 60.00%\n",
            "Magnus: 57.89%\n",
            "Visage: 57.89%\n",
            "Pangolier: 57.14%\n",
            "Leshrac: 57.14%\n",
            "Necrophos: 57.14%\n",
            "Storm Spirit: 56.00%\n",
            "Ogre Magi: 55.26%\n",
            "Night Stalker: 55.00%\n",
            "Weaver: 55.00%\n",
            "Drow Ranger: 54.55%\n",
            "Queen of Pain: 54.55%\n",
            "Winter Wyvern: 54.17%\n",
            "Alchemist: 54.05%\n",
            "Lifestealer: 53.85%\n",
            "Shadow Demon: 53.57%\n",
            "Lina: 53.49%\n",
            "Muerta: 53.33%\n",
            "Vengeful Spirit: 52.94%\n",
            "Invoker: 52.50%\n",
            "Timbersaw: 51.85%\n",
            "Dazzle: 51.35%\n",
            "Dragon Knight: 51.11%\n",
            "Clockwerk: 50.91%\n",
            "Batrider: 50.00%\n",
            "Bloodseeker: 50.00%\n",
            "Lone Druid: 50.00%\n",
            "Lion: 50.00%\n",
            "Dawnbreaker: 50.00%\n",
            "Abaddon: 50.00%\n",
            "Witch Doctor: 50.00%\n",
            "Chaos Knight: 50.00%\n",
            "Meepo: 50.00%\n",
            "Nyx Assassin: 48.21%\n",
            "Mirana: 48.15%\n",
            "Huskar: 46.67%\n",
            "Beastmaster: 46.15%\n",
            "Ember Spirit: 45.83%\n",
            "Earthshaker: 45.83%\n",
            "Morphling: 45.45%\n",
            "Io: 45.45%\n",
            "Naga Siren: 45.00%\n",
            "Shadow Fiend: 44.74%\n",
            "Phantom Assassin: 44.44%\n",
            "Anti-Mage: 44.44%\n",
            "Medusa: 44.44%\n",
            "Spectre: 44.44%\n",
            "Spirit Breaker: 44.44%\n",
            "Tusk: 44.00%\n",
            "Zeus: 43.75%\n",
            "Bane: 42.86%\n",
            "Phantom Lancer: 42.86%\n",
            "Tinker: 42.86%\n",
            "Slardar: 42.86%\n",
            "Lycan: 42.11%\n",
            "Shadow Shaman: 41.67%\n",
            "Bristleback: 41.18%\n",
            "Broodmother: 40.00%\n",
            "Elder Titan: 40.00%\n",
            "Monkey King: 39.39%\n",
            "Pudge: 39.39%\n",
            "Razor: 37.50%\n",
            "Outworld Destroyer: 37.50%\n",
            "Slark: 36.36%\n",
            "Doom: 36.36%\n",
            "Axe: 36.36%\n",
            "Lich: 35.29%\n",
            "Chen: 33.33%\n",
            "Centaur Warrunner: 33.33%\n",
            "Templar Assassin: 33.33%\n",
            "Sniper: 33.33%\n",
            "Hoodwink: 33.33%\n",
            "Warlock: 33.33%\n",
            "Rubick: 33.33%\n",
            "Jakiro: 33.33%\n",
            "Omniknight: 33.33%\n",
            "Dark Willow: 32.43%\n",
            "Sand King: 32.26%\n",
            "Luna: 30.77%\n",
            "Enigma: 30.77%\n",
            "Primal Beast: 28.57%\n",
            "Wraith King: 28.57%\n",
            "Mars: 25.00%\n",
            "Kunkka: 25.00%\n",
            "Crystal Maiden: 25.00%\n",
            "Brewmaster: 22.22%\n",
            "Ancient Apparition: 20.00%\n",
            "Earth Spirit: 16.67%\n",
            "Juggernaut: 16.67%\n"
          ]
        }
      ]
    },
    {
      "cell_type": "code",
      "source": [
        "print(df.columns)\n"
      ],
      "metadata": {
        "colab": {
          "base_uri": "https://localhost:8080/"
        },
        "id": "VRHpJTQHlLCD",
        "outputId": "915b822e-5ecc-4bd6-d715-13778934152c"
      },
      "execution_count": 68,
      "outputs": [
        {
          "output_type": "stream",
          "name": "stdout",
          "text": [
            "Index(['Match_ID', 'Radiant_Heroes', 'Dire_Heroes', 'Radiant_Win'], dtype='object')\n"
          ]
        }
      ]
    },
    {
      "cell_type": "code",
      "source": [
        "from sklearn.preprocessing import MultiLabelBinarizer\n",
        "\n",
        "# Codificar heróis escolhidos\n",
        "mlb = MultiLabelBinarizer()\n",
        "radiant_encoded = mlb.fit_transform(df['Radiant_Heroes'])\n",
        "dire_encoded = mlb.transform(df['Dire_Heroes'])\n",
        "\n",
        "# Criar DataFrame com heróis codificados\n",
        "radiant_df = pd.DataFrame(radiant_encoded, columns=[\"Radiant_\" + str(hero) for hero in mlb.classes_])\n",
        "dire_df = pd.DataFrame(dire_encoded, columns=[\"Dire_\" + str(hero) for hero in mlb.classes_])\n",
        "\n",
        "# Combinar com o resultado da partida\n",
        "model_df = pd.concat([radiant_df, dire_df, df['Radiant_Win']], axis=1)\n",
        "print(model_df.head())\n"
      ],
      "metadata": {
        "colab": {
          "base_uri": "https://localhost:8080/"
        },
        "id": "FZn7cUICm_xB",
        "outputId": "d49981b1-29a7-4d7d-b4aa-2425fcf763c0"
      },
      "execution_count": 77,
      "outputs": [
        {
          "output_type": "stream",
          "name": "stdout",
          "text": [
            "   Radiant_1  Radiant_2  Radiant_3  Radiant_4  Radiant_5  Radiant_6  \\\n",
            "0          0          0          0          0          0          0   \n",
            "1          1          0          0          0          0          0   \n",
            "2          0          0          0          0          0          1   \n",
            "3          0          0          0          1          0          0   \n",
            "4          0          0          0          0          0          0   \n",
            "\n",
            "   Radiant_7  Radiant_8  Radiant_9  Radiant_10  ...  Dire_121  Dire_123  \\\n",
            "0          0          0          0           1  ...         0         0   \n",
            "1          0          0          0           0  ...         0         0   \n",
            "2          0          0          0           0  ...         0         0   \n",
            "3          0          0          0           0  ...         0         0   \n",
            "4          0          0          0           1  ...         0         0   \n",
            "\n",
            "   Dire_126  Dire_128  Dire_129  Dire_135  Dire_136  Dire_137  Dire_138  \\\n",
            "0         0         0         0         1         0         0         0   \n",
            "1         1         0         0         0         0         0         0   \n",
            "2         0         0         0         0         0         0         0   \n",
            "3         0         0         0         0         0         0         1   \n",
            "4         0         0         0         0         0         0         0   \n",
            "\n",
            "   Radiant_Win  \n",
            "0        False  \n",
            "1         True  \n",
            "2         True  \n",
            "3        False  \n",
            "4        False  \n",
            "\n",
            "[5 rows x 249 columns]\n"
          ]
        }
      ]
    },
    {
      "cell_type": "code",
      "source": [
        "from sklearn.model_selection import train_test_split\n",
        "\n",
        "X = final_df.drop('Radiant_Win', axis=1)  # Features (heróis escolhidos)\n",
        "y = final_df['Radiant_Win']  # Rótulo (se o Radiant venceu)\n",
        "\n",
        "# Divisão\n",
        "X_train, X_test, y_train, y_test = train_test_split(X, y, test_size=0.2, random_state=42)\n"
      ],
      "metadata": {
        "id": "O6tTEtUgmWMb"
      },
      "execution_count": 78,
      "outputs": []
    },
    {
      "cell_type": "code",
      "source": [
        "from sklearn.linear_model import LogisticRegression\n",
        "from sklearn.metrics import classification_report\n",
        "\n",
        "model = LogisticRegression(max_iter=1000)\n",
        "model.fit(X_train, y_train)\n",
        "\n",
        "# Previsões e métricas\n",
        "y_pred = model.predict(X_test)\n",
        "print(classification_report(y_test, y_pred))\n"
      ],
      "metadata": {
        "colab": {
          "base_uri": "https://localhost:8080/"
        },
        "id": "Ub_DeMR6maA0",
        "outputId": "46a1d70d-45ba-4abb-c5b5-4f0a193422ef"
      },
      "execution_count": 74,
      "outputs": [
        {
          "output_type": "stream",
          "name": "stdout",
          "text": [
            "              precision    recall  f1-score   support\n",
            "\n",
            "       False       0.55      0.67      0.60         9\n",
            "        True       0.67      0.55      0.60        11\n",
            "\n",
            "    accuracy                           0.60        20\n",
            "   macro avg       0.61      0.61      0.60        20\n",
            "weighted avg       0.61      0.60      0.60        20\n",
            "\n"
          ]
        }
      ]
    },
    {
      "cell_type": "code",
      "source": [
        "from sklearn.ensemble import RandomForestClassifier\n",
        "\n",
        "model = RandomForestClassifier(n_estimators=100, random_state=42)\n",
        "model.fit(X_train, y_train)\n",
        "\n",
        "# Previsões e métricas\n",
        "y_pred = model.predict(X_test)\n",
        "print(classification_report(y_test, y_pred))\n"
      ],
      "metadata": {
        "colab": {
          "base_uri": "https://localhost:8080/"
        },
        "id": "m_gZMOGymcP8",
        "outputId": "8d4a5f5a-86fa-4704-ba5a-b3c936fb21ce"
      },
      "execution_count": 79,
      "outputs": [
        {
          "output_type": "stream",
          "name": "stdout",
          "text": [
            "              precision    recall  f1-score   support\n",
            "\n",
            "       False       0.60      0.67      0.63         9\n",
            "        True       0.70      0.64      0.67        11\n",
            "\n",
            "    accuracy                           0.65        20\n",
            "   macro avg       0.65      0.65      0.65        20\n",
            "weighted avg       0.65      0.65      0.65        20\n",
            "\n"
          ]
        }
      ]
    },
    {
      "cell_type": "code",
      "source": [
        "from sklearn.neighbors import KNeighborsClassifier\n",
        "from sklearn.metrics import classification_report\n",
        "\n",
        "# Inicialização do modelo KNN\n",
        "model = KNeighborsClassifier(n_neighbors=5)\n",
        "model.fit(X_train, y_train)\n",
        "\n",
        "# Previsões e métricas\n",
        "y_pred = model.predict(X_test)\n",
        "print(classification_report(y_test, y_pred))\n"
      ],
      "metadata": {
        "colab": {
          "base_uri": "https://localhost:8080/"
        },
        "id": "44Ub7jtXms7w",
        "outputId": "53e0e48d-2d20-4d12-a9c5-6a254f876444"
      },
      "execution_count": 80,
      "outputs": [
        {
          "output_type": "stream",
          "name": "stdout",
          "text": [
            "              precision    recall  f1-score   support\n",
            "\n",
            "       False       0.44      0.78      0.56         9\n",
            "        True       0.50      0.18      0.27        11\n",
            "\n",
            "    accuracy                           0.45        20\n",
            "   macro avg       0.47      0.48      0.41        20\n",
            "weighted avg       0.47      0.45      0.40        20\n",
            "\n"
          ]
        }
      ]
    }
  ]
}