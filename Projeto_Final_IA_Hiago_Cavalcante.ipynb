{
  "cells": [
    {
      "cell_type": "markdown",
      "metadata": {
        "id": "view-in-github",
        "colab_type": "text"
      },
      "source": [
        "<a href=\"https://colab.research.google.com/github/Hiago-Cavalcante/Projeto_IA/blob/main/Projeto_Final_IA_Hiago_Cavalcante.ipynb\" target=\"_parent\"><img src=\"https://colab.research.google.com/assets/colab-badge.svg\" alt=\"Open In Colab\"/></a>"
      ]
    },
    {
      "cell_type": "code",
      "execution_count": 295,
      "metadata": {
        "id": "R3-W27WuWCWG"
      },
      "outputs": [],
      "source": [
        "import requests\n",
        "import time\n",
        "import pandas as pd\n",
        "from concurrent.futures import ThreadPoolExecutor, as_completed\n",
        "import queue\n",
        "import threading\n",
        "import random"
      ]
    },
    {
      "cell_type": "code",
      "execution_count": 296,
      "metadata": {
        "colab": {
          "base_uri": "https://localhost:8080/"
        },
        "id": "uXpcnxOEvQYG",
        "outputId": "84b955e5-fc61-4001-ebab-f9bc673b3b37"
      },
      "outputs": [
        {
          "output_type": "stream",
          "name": "stdout",
          "text": [
            "Rate limit atingido. Tentativa 1/3. Aguardando 4.08s...\n",
            "Rate limit atingido. Tentativa 2/3. Aguardando 6.88s...\n",
            "Rate limit atingido. Tentativa 3/3. Aguardando 5.63s...\n",
            "Rate limit atingido. Tentativa 1/3. Aguardando 5.46s...\n",
            "Rate limit atingido. Tentativa 2/3. Aguardando 4.56s...\n",
            "Rate limit atingido. Tentativa 3/3. Aguardando 6.26s...\n",
            "98 partidas salvas no arquivo.\n",
            "Total coletado: 98 / 100\n",
            "Aguardando para evitar rate limit...\n",
            "2 partidas salvas no arquivo.\n",
            "Total coletado: 100 / 100\n",
            "Coleta concluída com sucesso.\n"
          ]
        }
      ],
      "source": [
        "\n",
        "class DotaAPICollector:\n",
        "    def __init__(self, base_url=\"https://api.opendota.com/api\", max_requests_per_minute=60, file_path=\"dota_matches.csv\"):\n",
        "        self.BASE_URL = base_url\n",
        "        self.MAX_REQUESTS_PER_MINUTE = max_requests_per_minute\n",
        "        self.processed_ids = set()\n",
        "        self.lock = threading.Lock()\n",
        "        self.file_path = file_path\n",
        "\n",
        "    def make_request(self, endpoint, retries=3, backoff_factor=1):\n",
        "        \"\"\"Função genérica para fazer requisições com tratamento de erros.\"\"\"\n",
        "        url = f\"{self.BASE_URL}/{endpoint}\"\n",
        "        for attempt in range(retries):\n",
        "            try:\n",
        "                response = requests.get(url)\n",
        "                if response.status_code == 200:\n",
        "                    return response.json()\n",
        "                elif response.status_code == 429:\n",
        "                    wait_time = (2 ** attempt) * backoff_factor + random.uniform(1, 5)\n",
        "                    print(f\"Rate limit atingido. Tentativa {attempt + 1}/{retries}. Aguardando {wait_time:.2f}s...\")\n",
        "                    time.sleep(wait_time)\n",
        "                elif response.status_code >= 500:\n",
        "                    print(f\"Erro 500 no servidor. Tentativa {attempt + 1}/{retries}.\")\n",
        "                    time.sleep(random.uniform(1, 5))\n",
        "                else:\n",
        "                    print(f\"Erro ao acessar {url}: {response.status_code}\")\n",
        "                    return None\n",
        "            except RequestException as e:\n",
        "                print(f\"Erro na requisição: {e}. Tentativa {attempt + 1}/{retries}.\")\n",
        "                time.sleep(random.uniform(1, 5))\n",
        "        return None\n",
        "\n",
        "    def get_public_match_ids(self, batch_size=100):\n",
        "        matches = self.make_request(\"proMatches\")\n",
        "        if matches:\n",
        "            return [match['match_id'] for match in matches[:batch_size]]\n",
        "        return []\n",
        "\n",
        "    def get_match_details(self, match_id):\n",
        "        match_data = self.make_request(f\"matches/{match_id}\")\n",
        "        if match_data:\n",
        "            return {\n",
        "                \"Match_ID\": match_id,\n",
        "                \"Radiant_Heroes\": [pick['hero_id'] for pick in match_data.get('picks_bans', []) if pick['team'] == 0],\n",
        "                \"Dire_Heroes\": [pick['hero_id'] for pick in match_data.get('picks_bans', []) if pick['team'] == 1],\n",
        "                \"Radiant_Win\": match_data.get('radiant_win', False)\n",
        "            }\n",
        "        return None\n",
        "\n",
        "    def save_to_csv(self, matches):\n",
        "        df = pd.DataFrame(matches)\n",
        "        if not df.empty:\n",
        "            df.to_csv(self.file_path, mode='a', index=False, header=not pd.io.common.file_exists(self.file_path))\n",
        "            print(f\"{len(matches)} partidas salvas no arquivo.\")\n",
        "\n",
        "    def collect_matches(self, total_matches=1000, batch_size=100):\n",
        "        while len(self.processed_ids) < total_matches:\n",
        "            # Obter IDs de partidas\n",
        "            match_ids = self.get_public_match_ids(batch_size)\n",
        "            new_ids = [match_id for match_id in match_ids if match_id not in self.processed_ids]\n",
        "\n",
        "            matches_data = []\n",
        "            for match_id in new_ids:\n",
        "                match_details = self.get_match_details(match_id)\n",
        "                if match_details:\n",
        "                    matches_data.append(match_details)\n",
        "                    self.processed_ids.add(match_id)\n",
        "\n",
        "                # Verifica se já coletou o total necessário\n",
        "                if len(self.processed_ids) >= total_matches:\n",
        "                    break\n",
        "\n",
        "            self.save_to_csv(matches_data)\n",
        "            print(f\"Total coletado: {len(self.processed_ids)} / {total_matches}\")\n",
        "\n",
        "            # Sai do loop principal caso o total seja atingido\n",
        "            if len(self.processed_ids) >= total_matches:\n",
        "                print(\"Coleta concluída com sucesso.\")\n",
        "                break\n",
        "\n",
        "            # Pausa para evitar rate limit\n",
        "            print(\"Aguardando para evitar rate limit...\")\n",
        "            time.sleep(random.uniform(5, 10))\n",
        "\n",
        "\n",
        "# Uso\n",
        "if __name__ == \"__main__\":\n",
        "    collector = DotaAPICollector()\n",
        "    collector.collect_matches(total_matches=100, batch_size=100)\n",
        "\n"
      ]
    },
    {
      "cell_type": "code",
      "execution_count": 297,
      "metadata": {
        "colab": {
          "base_uri": "https://localhost:8080/"
        },
        "id": "3Qv8ACvlC7XE",
        "outputId": "3523934e-7e72-4672-c0c1-f9db97a667b0"
      },
      "outputs": [
        {
          "output_type": "stream",
          "name": "stdout",
          "text": [
            "     Match_ID                                     Radiant_Heroes  \\\n",
            "0  8066040823  [73, 110, 135, 49, 38, 94, 72, 119, 100, 63, 9...   \n",
            "1  8066032611  [112, 110, 120, 88, 14, 9, 119, 2, 74, 136, 50...   \n",
            "2  8065949434  [73, 49, 135, 25, 128, 86, 97, 22, 106, 41, 94...   \n",
            "3  8065902119    [62, 90, 51, 45, 71, 61, 89, 20, 94, 1, 93, 74]   \n",
            "4  8065853700   [73, 49, 97, 22, 19, 69, 45, 79, 72, 15, 95, 29]   \n",
            "\n",
            "                                         Dire_Heroes  Radiant_Win  \n",
            "0  [65, 77, 25, 51, 79, 84, 129, 128, 39, 13, 106...        False  \n",
            "1  [79, 100, 21, 31, 105, 104, 51, 15, 19, 10, 46...        False  \n",
            "2  [65, 77, 98, 110, 84, 69, 129, 100, 114, 95, 7...        False  \n",
            "3  [38, 67, 88, 110, 79, 70, 84, 23, 25, 129, 35,...         True  \n",
            "4  [110, 135, 74, 25, 51, 119, 65, 84, 77, 99, 12...        False  \n",
            "<class 'pandas.core.frame.DataFrame'>\n",
            "RangeIndex: 100 entries, 0 to 99\n",
            "Data columns (total 4 columns):\n",
            " #   Column          Non-Null Count  Dtype \n",
            "---  ------          --------------  ----- \n",
            " 0   Match_ID        100 non-null    int64 \n",
            " 1   Radiant_Heroes  100 non-null    object\n",
            " 2   Dire_Heroes     100 non-null    object\n",
            " 3   Radiant_Win     100 non-null    bool  \n",
            "dtypes: bool(1), int64(1), object(2)\n",
            "memory usage: 2.6+ KB\n",
            "None\n",
            "           Match_ID\n",
            "count  1.000000e+02\n",
            "mean   8.064901e+09\n",
            "std    6.463715e+05\n",
            "min    8.063720e+09\n",
            "25%    8.064429e+09\n",
            "50%    8.065046e+09\n",
            "75%    8.065306e+09\n",
            "max    8.066041e+09\n"
          ]
        }
      ],
      "source": [
        "df = pd.read_csv(\"dota_matches.csv\")\n",
        "\n",
        "# Visualizar as primeiras linhas\n",
        "print(df.head())\n",
        "\n",
        "# Obter informações sobre os dados\n",
        "print(df.info())\n",
        "print(df.describe())"
      ]
    },
    {
      "cell_type": "code",
      "execution_count": 298,
      "metadata": {
        "id": "HKZIeyIpRURL"
      },
      "outputs": [],
      "source": [
        "import ast\n",
        "\n",
        "# Converter as colunas para listas reais\n",
        "df['Radiant_Heroes'] = df['Radiant_Heroes'].apply(ast.literal_eval)\n",
        "df['Dire_Heroes'] = df['Dire_Heroes'].apply(ast.literal_eval)\n"
      ]
    },
    {
      "cell_type": "code",
      "execution_count": 299,
      "metadata": {
        "colab": {
          "base_uri": "https://localhost:8080/"
        },
        "id": "fVzHTvmzQoPN",
        "outputId": "c7ed7cef-73fe-4625-9bd9-631ce3031b99"
      },
      "outputs": [
        {
          "output_type": "stream",
          "name": "stdout",
          "text": [
            "Radiant_Win\n",
            "False    0.54\n",
            "True     0.46\n",
            "Name: proportion, dtype: float64\n"
          ]
        }
      ],
      "source": [
        "print(df['Radiant_Win'].value_counts(normalize=True))\n"
      ]
    },
    {
      "cell_type": "code",
      "execution_count": 300,
      "metadata": {
        "colab": {
          "base_uri": "https://localhost:8080/"
        },
        "id": "1OTcdgU2Q4zg",
        "outputId": "b1de8212-2d19-4a7d-817c-73fdca8fe255"
      },
      "outputs": [
        {
          "output_type": "stream",
          "name": "stdout",
          "text": [
            "[(110, 61), (51, 56), (74, 55), (97, 53), (25, 52), (88, 50), (112, 48), (86, 47), (84, 47), (49, 44)]\n"
          ]
        }
      ],
      "source": [
        "from collections import Counter\n",
        "\n",
        "all_heroes = df['Radiant_Heroes'].explode().tolist() + df['Dire_Heroes'].explode().tolist()\n",
        "hero_counts = Counter(all_heroes)\n",
        "print(hero_counts.most_common(10))"
      ]
    },
    {
      "cell_type": "code",
      "execution_count": 301,
      "metadata": {
        "colab": {
          "base_uri": "https://localhost:8080/"
        },
        "id": "jlzqsjFSSB6C",
        "outputId": "7e70e3eb-6603-4b2f-de43-de10ecba66bd"
      },
      "outputs": [
        {
          "output_type": "stream",
          "name": "stdout",
          "text": [
            "[('Phoenix', 61), ('Clockwerk', 56), ('Invoker', 55), ('Magnus', 53), ('Lina', 52), ('Nyx Assassin', 50), ('Winter Wyvern', 48), ('Rubick', 47), ('Ogre Magi', 47), ('Dragon Knight', 44)]\n"
          ]
        }
      ],
      "source": [
        "response = requests.get(\"https://api.opendota.com/api/heroes\")\n",
        "if response.status_code == 200:\n",
        "    heroes = response.json()\n",
        "    hero_map = {hero['id']: hero['localized_name'] for hero in heroes}\n",
        "\n",
        "    hero_counts_named = [(hero_map[hero_id], count) for hero_id, count in hero_counts.most_common(10)]\n",
        "    print(hero_counts_named)\n"
      ]
    },
    {
      "cell_type": "code",
      "execution_count": 302,
      "metadata": {
        "colab": {
          "base_uri": "https://localhost:8080/"
        },
        "id": "Dgh1tnXMYBqG",
        "outputId": "0a12880b-a2ca-45be-989a-ddd80d6a3cf6"
      },
      "outputs": [
        {
          "output_type": "stream",
          "name": "stdout",
          "text": [
            "Mapeamento criado com sucesso!\n"
          ]
        }
      ],
      "source": [
        "\n",
        "# URL da API para obter heróis\n",
        "heroes_url = \"https://api.opendota.com/api/heroes\"\n",
        "\n",
        "# Fazer a requisição\n",
        "response = requests.get(heroes_url)\n",
        "if response.status_code == 200:\n",
        "    heroes = response.json()\n",
        "    hero_id_to_name = {hero['id']: hero['localized_name'] for hero in heroes}\n",
        "    print(\"Mapeamento criado com sucesso!\")\n",
        "else:\n",
        "    print(f\"Erro ao acessar a API: {response.status_code}\")\n"
      ]
    },
    {
      "cell_type": "code",
      "execution_count": 303,
      "metadata": {
        "colab": {
          "base_uri": "https://localhost:8080/"
        },
        "id": "uYLzcBykYEs3",
        "outputId": "591722f8-8755-4685-d70c-2a1d79282a4e"
      },
      "outputs": [
        {
          "output_type": "stream",
          "name": "stdout",
          "text": [
            "{1: 'Anti-Mage', 2: 'Axe', 3: 'Bane', 4: 'Bloodseeker', 5: 'Crystal Maiden', 6: 'Drow Ranger', 7: 'Earthshaker', 8: 'Juggernaut', 9: 'Mirana', 10: 'Morphling', 11: 'Shadow Fiend', 12: 'Phantom Lancer', 13: 'Puck', 14: 'Pudge', 15: 'Razor', 16: 'Sand King', 17: 'Storm Spirit', 18: 'Sven', 19: 'Tiny', 20: 'Vengeful Spirit', 21: 'Windranger', 22: 'Zeus', 23: 'Kunkka', 25: 'Lina', 26: 'Lion', 27: 'Shadow Shaman', 28: 'Slardar', 29: 'Tidehunter', 30: 'Witch Doctor', 31: 'Lich', 32: 'Riki', 33: 'Enigma', 34: 'Tinker', 35: 'Sniper', 36: 'Necrophos', 37: 'Warlock', 38: 'Beastmaster', 39: 'Queen of Pain', 40: 'Venomancer', 41: 'Faceless Void', 42: 'Wraith King', 43: 'Death Prophet', 44: 'Phantom Assassin', 45: 'Pugna', 46: 'Templar Assassin', 47: 'Viper', 48: 'Luna', 49: 'Dragon Knight', 50: 'Dazzle', 51: 'Clockwerk', 52: 'Leshrac', 53: \"Nature's Prophet\", 54: 'Lifestealer', 55: 'Dark Seer', 56: 'Clinkz', 57: 'Omniknight', 58: 'Enchantress', 59: 'Huskar', 60: 'Night Stalker', 61: 'Broodmother', 62: 'Bounty Hunter', 63: 'Weaver', 64: 'Jakiro', 65: 'Batrider', 66: 'Chen', 67: 'Spectre', 68: 'Ancient Apparition', 69: 'Doom', 70: 'Ursa', 71: 'Spirit Breaker', 72: 'Gyrocopter', 73: 'Alchemist', 74: 'Invoker', 75: 'Silencer', 76: 'Outworld Destroyer', 77: 'Lycan', 78: 'Brewmaster', 79: 'Shadow Demon', 80: 'Lone Druid', 81: 'Chaos Knight', 82: 'Meepo', 83: 'Treant Protector', 84: 'Ogre Magi', 85: 'Undying', 86: 'Rubick', 87: 'Disruptor', 88: 'Nyx Assassin', 89: 'Naga Siren', 90: 'Keeper of the Light', 91: 'Io', 92: 'Visage', 93: 'Slark', 94: 'Medusa', 95: 'Troll Warlord', 96: 'Centaur Warrunner', 97: 'Magnus', 98: 'Timbersaw', 99: 'Bristleback', 100: 'Tusk', 101: 'Skywrath Mage', 102: 'Abaddon', 103: 'Elder Titan', 104: 'Legion Commander', 105: 'Techies', 106: 'Ember Spirit', 107: 'Earth Spirit', 108: 'Underlord', 109: 'Terrorblade', 110: 'Phoenix', 111: 'Oracle', 112: 'Winter Wyvern', 113: 'Arc Warden', 114: 'Monkey King', 119: 'Dark Willow', 120: 'Pangolier', 121: 'Grimstroke', 123: 'Hoodwink', 126: 'Void Spirit', 128: 'Snapfire', 129: 'Mars', 131: 'Ringmaster', 135: 'Dawnbreaker', 136: 'Marci', 137: 'Primal Beast', 138: 'Muerta', 145: 'Kez'}\n"
          ]
        }
      ],
      "source": [
        "print(hero_id_to_name)"
      ]
    },
    {
      "cell_type": "code",
      "execution_count": 304,
      "metadata": {
        "colab": {
          "base_uri": "https://localhost:8080/",
          "height": 472
        },
        "collapsed": true,
        "id": "yUcUwoEdT4X3",
        "outputId": "57e842db-a34d-4aea-dbd5-81051b008444"
      },
      "outputs": [
        {
          "output_type": "display_data",
          "data": {
            "text/plain": [
              "<Figure size 640x480 with 1 Axes>"
            ],
            "image/png": "[encoded data removed]"
          },
          "metadata": {}
        }
      ],
      "source": [
        "import matplotlib.pyplot as plt\n",
        "\n",
        "heroes, counts = zip(*hero_counts_named)\n",
        "plt.barh(heroes, counts, color='skyblue')\n",
        "plt.xlabel('Escolhas')\n",
        "plt.ylabel('Heróis')\n",
        "plt.title('Heróis Mais Escolhidos')\n",
        "plt.gca().invert_yaxis()\n",
        "plt.show()\n"
      ]
    },
    {
      "cell_type": "code",
      "execution_count": 305,
      "metadata": {
        "id": "zUGgYtKLY1rh"
      },
      "outputs": [],
      "source": [
        "df_cleaned = df.dropna(subset=['Radiant_Heroes', 'Dire_Heroes'])"
      ]
    },
    {
      "cell_type": "code",
      "execution_count": 306,
      "metadata": {
        "colab": {
          "base_uri": "https://localhost:8080/"
        },
        "id": "tsw433b6X3PC",
        "outputId": "65fa10ad-406a-4d3b-c0bf-9097df9b7694"
      },
      "outputs": [
        {
          "output_type": "stream",
          "name": "stdout",
          "text": [
            "Taxa de vitória dos heróis:\n",
            "Bloodseeker: 100.00%\n",
            "Disruptor: 83.33%\n",
            "Elder Titan: 80.00%\n",
            "Warlock: 69.57%\n",
            "Enigma: 68.75%\n",
            "Shadow Shaman: 66.67%\n",
            "Tinker: 66.67%\n",
            "Oracle: 66.67%\n",
            "Mars: 64.29%\n",
            "Tusk: 63.64%\n",
            "Broodmother: 62.50%\n",
            "Slark: 62.50%\n",
            "Primal Beast: 62.50%\n",
            "Juggernaut: 62.50%\n",
            "Nature's Prophet: 62.50%\n",
            "Viper: 62.50%\n",
            "Lich: 61.54%\n",
            "Tiny: 61.11%\n",
            "Visage: 61.11%\n",
            "Muerta: 61.11%\n",
            "Void Spirit: 60.87%\n",
            "Invoker: 60.00%\n",
            "Naga Siren: 60.00%\n",
            "Monkey King: 60.00%\n",
            "Huskar: 60.00%\n",
            "Marci: 59.09%\n",
            "Crystal Maiden: 58.33%\n",
            "Sniper: 58.33%\n",
            "Earth Spirit: 57.89%\n",
            "Luna: 57.14%\n",
            "Necrophos: 57.14%\n",
            "Dawnbreaker: 56.52%\n",
            "Mirana: 56.52%\n",
            "Winter Wyvern: 56.25%\n",
            "Lifestealer: 56.25%\n",
            "Shadow Demon: 55.56%\n",
            "Razor: 55.56%\n",
            "Rubick: 55.32%\n",
            "Pangolier: 55.00%\n",
            "Bounty Hunter: 54.55%\n",
            "Windranger: 54.55%\n",
            "Ursa: 54.55%\n",
            "Lone Druid: 54.55%\n",
            "Storm Spirit: 54.17%\n",
            "Pugna: 54.17%\n",
            "Lina: 53.85%\n",
            "Sand King: 53.85%\n",
            "Bristleback: 53.57%\n",
            "Techies: 53.33%\n",
            "Ogre Magi: 53.19%\n",
            "Lycan: 52.94%\n",
            "Phoenix: 52.46%\n",
            "Batrider: 52.00%\n",
            "Queen of Pain: 51.72%\n",
            "Doom: 51.28%\n",
            "Shadow Fiend: 51.22%\n",
            "Magnus: 50.94%\n",
            "Dragon Knight: 50.00%\n",
            "Anti-Mage: 50.00%\n",
            "Io: 50.00%\n",
            "Centaur Warrunner: 50.00%\n",
            "Meepo: 50.00%\n",
            "Drow Ranger: 50.00%\n",
            "Bane: 50.00%\n",
            "Earthshaker: 50.00%\n",
            "Undying: 50.00%\n",
            "Silencer: 50.00%\n",
            "Abaddon: 50.00%\n",
            "Ancient Apparition: 50.00%\n",
            "Outworld Destroyer: 50.00%\n",
            "Witch Doctor: 50.00%\n",
            "Kunkka: 50.00%\n",
            "Timbersaw: 48.00%\n",
            "Beastmaster: 47.22%\n",
            "Terrorblade: 46.88%\n",
            "Morphling: 46.88%\n",
            "Gyrocopter: 46.43%\n",
            "Clockwerk: 46.43%\n",
            "Skywrath Mage: 46.15%\n",
            "Brewmaster: 46.15%\n",
            "Spectre: 46.15%\n",
            "Nyx Assassin: 46.00%\n",
            "Keeper of the Light: 45.45%\n",
            "Chaos Knight: 45.45%\n",
            "Medusa: 44.00%\n",
            "Hoodwink: 44.00%\n",
            "Puck: 43.75%\n",
            "Zeus: 42.86%\n",
            "Vengeful Spirit: 42.86%\n",
            "Dark Seer: 42.86%\n",
            "Sven: 42.86%\n",
            "Weaver: 42.31%\n",
            "Pudge: 42.31%\n",
            "Alchemist: 41.67%\n",
            "Lion: 41.67%\n",
            "Phantom Assassin: 41.18%\n",
            "Faceless Void: 40.00%\n",
            "Venomancer: 40.00%\n",
            "Night Stalker: 40.00%\n",
            "Snapfire: 37.50%\n",
            "Jakiro: 37.50%\n",
            "Chen: 36.36%\n",
            "Dark Willow: 33.33%\n",
            "Dazzle: 33.33%\n",
            "Ember Spirit: 33.33%\n",
            "Tidehunter: 33.33%\n",
            "Riki: 33.33%\n",
            "Death Prophet: 33.33%\n",
            "Legion Commander: 33.33%\n",
            "Clinkz: 33.33%\n",
            "Grimstroke: 33.33%\n",
            "Phantom Lancer: 33.33%\n",
            "Omniknight: 33.33%\n",
            "Axe: 30.77%\n",
            "Spirit Breaker: 30.43%\n",
            "Wraith King: 30.00%\n",
            "Templar Assassin: 29.41%\n",
            "Slardar: 28.57%\n",
            "Troll Warlord: 27.27%\n",
            "Enchantress: 21.05%\n",
            "Leshrac: 0.00%\n",
            "Arc Warden: 0.00%\n",
            "Treant Protector: 0.00%\n",
            "Underlord: 0.00%\n"
          ]
        }
      ],
      "source": [
        "from collections import Counter\n",
        "\n",
        "# Criar lista de todos os heróis para análise\n",
        "all_heroes_radiant = df[df['Radiant_Win'] == True]['Radiant_Heroes'].explode()\n",
        "all_heroes_dire = df[df['Radiant_Win'] == False]['Dire_Heroes'].explode()\n",
        "\n",
        "# Calcular total de aparições\n",
        "total_heroes = df['Radiant_Heroes'].explode().tolist() + df['Dire_Heroes'].explode().tolist()\n",
        "total_counts = Counter(total_heroes)\n",
        "\n",
        "# Contar vitórias\n",
        "win_counts_radiant = Counter(all_heroes_radiant)\n",
        "win_counts_dire = Counter(all_heroes_dire)\n",
        "\n",
        "# Calcular taxa de vitória por herói\n",
        "win_rates = {}\n",
        "for hero_id in total_counts.keys():\n",
        "    wins = win_counts_radiant.get(hero_id, 0) + win_counts_dire.get(hero_id, 0)\n",
        "    total = total_counts[hero_id]\n",
        "    win_rates[hero_id] = wins / total if total > 0 else 0\n",
        "\n",
        "# Converter IDs para nomes (assumindo mapeamento hero_id_to_name)\n",
        "win_rates_named = {hero_id_to_name.get(hero_id, hero_id): rate for hero_id, rate in win_rates.items()}\n",
        "\n",
        "# Exibir resultados\n",
        "print(\"Taxa de vitória dos heróis:\")\n",
        "for hero, win_rate in sorted(win_rates_named.items(), key=lambda x: x[1], reverse=True):\n",
        "    print(f\"{hero}: {win_rate:.2%}\")\n",
        "\n"
      ]
    },
    {
      "cell_type": "code",
      "execution_count": 307,
      "metadata": {
        "colab": {
          "base_uri": "https://localhost:8080/"
        },
        "id": "pM5wpv7DuX8r",
        "outputId": "20a2c0c6-5791-49cc-a727-a6e38ca0561a"
      },
      "outputs": [
        {
          "output_type": "stream",
          "name": "stdout",
          "text": [
            "Taxa de vitória dos heróis:\n",
            "Bloodseeker: 100.00%\n",
            "Disruptor: 83.33%\n",
            "Elder Titan: 80.00%\n",
            "Warlock: 69.57%\n",
            "Enigma: 68.75%\n",
            "Shadow Shaman: 66.67%\n",
            "Tinker: 66.67%\n",
            "Oracle: 66.67%\n",
            "Mars: 64.29%\n",
            "Tusk: 63.64%\n",
            "Broodmother: 62.50%\n",
            "Slark: 62.50%\n",
            "Primal Beast: 62.50%\n",
            "Juggernaut: 62.50%\n",
            "Nature's Prophet: 62.50%\n",
            "Viper: 62.50%\n",
            "Lich: 61.54%\n",
            "Tiny: 61.11%\n",
            "Visage: 61.11%\n",
            "Muerta: 61.11%\n",
            "Void Spirit: 60.87%\n",
            "Invoker: 60.00%\n",
            "Naga Siren: 60.00%\n",
            "Monkey King: 60.00%\n",
            "Huskar: 60.00%\n",
            "Marci: 59.09%\n",
            "Crystal Maiden: 58.33%\n",
            "Sniper: 58.33%\n",
            "Earth Spirit: 57.89%\n",
            "Luna: 57.14%\n",
            "Necrophos: 57.14%\n",
            "Dawnbreaker: 56.52%\n",
            "Mirana: 56.52%\n",
            "Winter Wyvern: 56.25%\n",
            "Lifestealer: 56.25%\n",
            "Shadow Demon: 55.56%\n",
            "Razor: 55.56%\n",
            "Rubick: 55.32%\n",
            "Pangolier: 55.00%\n",
            "Bounty Hunter: 54.55%\n",
            "Windranger: 54.55%\n",
            "Ursa: 54.55%\n",
            "Lone Druid: 54.55%\n",
            "Storm Spirit: 54.17%\n",
            "Pugna: 54.17%\n",
            "Lina: 53.85%\n",
            "Sand King: 53.85%\n",
            "Bristleback: 53.57%\n",
            "Techies: 53.33%\n",
            "Ogre Magi: 53.19%\n",
            "Lycan: 52.94%\n",
            "Phoenix: 52.46%\n",
            "Batrider: 52.00%\n",
            "Queen of Pain: 51.72%\n",
            "Doom: 51.28%\n",
            "Shadow Fiend: 51.22%\n",
            "Magnus: 50.94%\n",
            "Dragon Knight: 50.00%\n",
            "Anti-Mage: 50.00%\n",
            "Io: 50.00%\n",
            "Centaur Warrunner: 50.00%\n",
            "Meepo: 50.00%\n",
            "Drow Ranger: 50.00%\n",
            "Bane: 50.00%\n",
            "Earthshaker: 50.00%\n",
            "Undying: 50.00%\n",
            "Silencer: 50.00%\n",
            "Abaddon: 50.00%\n",
            "Ancient Apparition: 50.00%\n",
            "Outworld Destroyer: 50.00%\n",
            "Witch Doctor: 50.00%\n",
            "Kunkka: 50.00%\n",
            "Timbersaw: 48.00%\n",
            "Beastmaster: 47.22%\n",
            "Terrorblade: 46.88%\n",
            "Morphling: 46.88%\n",
            "Gyrocopter: 46.43%\n",
            "Clockwerk: 46.43%\n",
            "Skywrath Mage: 46.15%\n",
            "Brewmaster: 46.15%\n",
            "Spectre: 46.15%\n",
            "Nyx Assassin: 46.00%\n",
            "Keeper of the Light: 45.45%\n",
            "Chaos Knight: 45.45%\n",
            "Medusa: 44.00%\n",
            "Hoodwink: 44.00%\n",
            "Puck: 43.75%\n",
            "Zeus: 42.86%\n",
            "Vengeful Spirit: 42.86%\n",
            "Dark Seer: 42.86%\n",
            "Sven: 42.86%\n",
            "Weaver: 42.31%\n",
            "Pudge: 42.31%\n",
            "Alchemist: 41.67%\n",
            "Lion: 41.67%\n",
            "Phantom Assassin: 41.18%\n",
            "Faceless Void: 40.00%\n",
            "Venomancer: 40.00%\n",
            "Night Stalker: 40.00%\n",
            "Snapfire: 37.50%\n",
            "Jakiro: 37.50%\n",
            "Chen: 36.36%\n",
            "Dark Willow: 33.33%\n",
            "Dazzle: 33.33%\n",
            "Ember Spirit: 33.33%\n",
            "Tidehunter: 33.33%\n",
            "Riki: 33.33%\n",
            "Death Prophet: 33.33%\n",
            "Legion Commander: 33.33%\n",
            "Clinkz: 33.33%\n",
            "Grimstroke: 33.33%\n",
            "Phantom Lancer: 33.33%\n",
            "Omniknight: 33.33%\n",
            "Axe: 30.77%\n",
            "Spirit Breaker: 30.43%\n",
            "Wraith King: 30.00%\n",
            "Templar Assassin: 29.41%\n",
            "Slardar: 28.57%\n",
            "Troll Warlord: 27.27%\n",
            "Enchantress: 21.05%\n"
          ]
        }
      ],
      "source": [
        "# Filtrar taxas de vitória válidas\n",
        "win_rates_cleaned = {hero: rate for hero, rate in win_rates_named.items() if rate > 0}\n",
        "\n",
        "\n",
        "# Substituir 'nan' por 0 nas taxas de vitória\n",
        "win_rates_named = {hero: (rate if not isinstance(rate, float) or not pd.isna(rate) else 0) for hero, rate in win_rates_named.items()}\n",
        "\n",
        "# Exibir resultados sem 'nan'\n",
        "print(\"Taxa de vitória dos heróis:\")\n",
        "for hero, win_rate in sorted(win_rates_named.items(), key=lambda x: x[1], reverse=True):\n",
        "    if win_rate > 0:\n",
        "        print(f\"{hero}: {win_rate:.2%}\")\n"
      ]
    },
    {
      "cell_type": "code",
      "execution_count": 308,
      "metadata": {
        "colab": {
          "base_uri": "https://localhost:8080/"
        },
        "id": "VRHpJTQHlLCD",
        "outputId": "6da22f56-5e58-45fb-9998-360a412268d2"
      },
      "outputs": [
        {
          "output_type": "stream",
          "name": "stdout",
          "text": [
            "Index(['Match_ID', 'Radiant_Heroes', 'Dire_Heroes', 'Radiant_Win'], dtype='object')\n"
          ]
        }
      ],
      "source": [
        "print(df.columns)\n"
      ]
    },
    {
      "cell_type": "code",
      "execution_count": 321,
      "metadata": {
        "id": "FZn7cUICm_xB",
        "colab": {
          "base_uri": "https://localhost:8080/"
        },
        "outputId": "58fc18d2-da7e-42ba-a3a4-1221bd3d14fb"
      },
      "outputs": [
        {
          "output_type": "stream",
          "name": "stdout",
          "text": [
            "   Radiant_1  Radiant_2  Radiant_3  Radiant_4  Radiant_5  Radiant_6  \\\n",
            "0          0          0          0          0          0          0   \n",
            "1          0          1          0          0          0          0   \n",
            "2          0          0          0          0          0          0   \n",
            "3          1          0          0          0          0          0   \n",
            "4          0          0          0          0          0          0   \n",
            "\n",
            "   Radiant_7  Radiant_8  Radiant_9  Radiant_10  ...  Dire_121  Dire_123  \\\n",
            "0          0          0          0           0  ...         0         0   \n",
            "1          0          0          1           0  ...         0         0   \n",
            "2          0          0          0           0  ...         0         0   \n",
            "3          0          0          0           0  ...         0         0   \n",
            "4          0          0          0           0  ...         0         0   \n",
            "\n",
            "   Dire_126  Dire_128  Dire_129  Dire_135  Dire_136  Dire_137  Dire_138  \\\n",
            "0         0         1         1         0         0         0         0   \n",
            "1         0         0         0         0         0         0         0   \n",
            "2         0         0         1         0         0         0         0   \n",
            "3         0         0         1         0         0         0         0   \n",
            "4         0         0         1         1         0         0         0   \n",
            "\n",
            "   Radiant_Win  \n",
            "0        False  \n",
            "1        False  \n",
            "2        False  \n",
            "3         True  \n",
            "4        False  \n",
            "\n",
            "[5 rows x 241 columns]\n",
            "<class 'pandas.core.frame.DataFrame'>\n",
            "RangeIndex: 100 entries, 0 to 99\n",
            "Columns: 241 entries, Radiant_1 to Radiant_Win\n",
            "dtypes: bool(1), int64(240)\n",
            "memory usage: 187.7 KB\n",
            "None\n",
            "Radiant_Win\n",
            "False    54\n",
            "True     46\n",
            "Name: count, dtype: int64\n"
          ]
        },
        {
          "output_type": "stream",
          "name": "stderr",
          "text": [
            "/usr/local/lib/python3.10/dist-packages/sklearn/preprocessing/_label.py:900: UserWarning: unknown class(es) [108, 57, 59, 83] will be ignored\n",
            "  warnings.warn(\n"
          ]
        }
      ],
      "source": [
        "from sklearn.preprocessing import MultiLabelBinarizer\n",
        "\n",
        "# Codificar heróis escolhidos\n",
        "mlb = MultiLabelBinarizer()\n",
        "radiant_encoded = mlb.fit_transform(df['Radiant_Heroes'])\n",
        "dire_encoded = mlb.transform(df['Dire_Heroes'])\n",
        "\n",
        "# Criar DataFrame com heróis codificados\n",
        "radiant_df = pd.DataFrame(radiant_encoded, columns=[\"Radiant_\" + str(hero) for hero in mlb.classes_])\n",
        "dire_df = pd.DataFrame(dire_encoded, columns=[\"Dire_\" + str(hero) for hero in mlb.classes_])\n",
        "\n",
        "# Combinar com o resultado da partida\n",
        "model_df = pd.concat([radiant_df, dire_df, df['Radiant_Win']], axis=1)\n",
        "print(model_df.head())\n",
        "\n",
        "print(model_df.info())  # Informações sobre as colunas\n",
        "print(model_df['Radiant_Win'].value_counts())  # Verificar balanceamento do target\n",
        "\n",
        "# Features (heróis escolhidos)\n",
        "X = model_df.drop(columns=['Radiant_Win'])\n",
        "\n",
        "# Target (resultado da partida)\n",
        "y = model_df['Radiant_Win']\n"
      ]
    },
    {
      "cell_type": "code",
      "execution_count": 310,
      "metadata": {
        "colab": {
          "base_uri": "https://localhost:8080/"
        },
        "id": "CDnXlBB03hkw",
        "outputId": "5f3079fb-3ea0-4dca-c62c-84278222ab67"
      },
      "outputs": [
        {
          "output_type": "stream",
          "name": "stdout",
          "text": [
            "<class 'pandas.core.frame.DataFrame'>\n",
            "RangeIndex: 100 entries, 0 to 99\n",
            "Columns: 101 entries, Radiant_97 to Radiant_Win\n",
            "dtypes: bool(1), int64(100)\n",
            "memory usage: 78.3 KB\n",
            "None\n",
            "Radiant_Win\n",
            "False    54\n",
            "True     46\n",
            "Name: count, dtype: int64\n"
          ]
        }
      ],
      "source": [
        "\n",
        "print(model_df.info())  # Informações sobre as colunas\n",
        "print(model_df['Radiant_Win'].value_counts())  # Verificar balanceamento do target\n"
      ]
    },
    {
      "cell_type": "code",
      "execution_count": 311,
      "metadata": {
        "id": "YSZXU3wa3o0B"
      },
      "outputs": [],
      "source": [
        "# Features (heróis escolhidos)\n",
        "X = model_df.drop(columns=['Radiant_Win'])\n",
        "\n",
        "# Target (resultado da partida)\n",
        "y = model_df['Radiant_Win']\n"
      ]
    },
    {
      "cell_type": "code",
      "execution_count": 322,
      "metadata": {
        "colab": {
          "base_uri": "https://localhost:8080/"
        },
        "id": "Lv7c1jbY45IO",
        "outputId": "466b440b-ad8b-40f3-84ac-6fce3f0049c6"
      },
      "outputs": [
        {
          "output_type": "stream",
          "name": "stdout",
          "text": [
            "Tamanho do conjunto de treino: (80, 240)\n",
            "Tamanho do conjunto de teste: (20, 240)\n"
          ]
        }
      ],
      "source": [
        "from sklearn.model_selection import train_test_split\n",
        "\n",
        "X_train, X_test, y_train, y_test = train_test_split(X, y, train_size=0.8, random_state=42)\n",
        "\n",
        "print(f\"Tamanho do conjunto de treino: {X_train.shape}\")\n",
        "print(f\"Tamanho do conjunto de teste: {X_test.shape}\")\n"
      ]
    },
    {
      "cell_type": "code",
      "source": [
        "print(X.shape)"
      ],
      "metadata": {
        "colab": {
          "base_uri": "https://localhost:8080/"
        },
        "id": "0c0wpxHdQZBi",
        "outputId": "3cf8044e-6654-4c69-b909-b4f4c50b0e01"
      },
      "execution_count": 313,
      "outputs": [
        {
          "output_type": "stream",
          "name": "stdout",
          "text": [
            "(100, 100)\n"
          ]
        }
      ]
    },
    {
      "cell_type": "code",
      "execution_count": 325,
      "metadata": {
        "colab": {
          "base_uri": "https://localhost:8080/"
        },
        "id": "Fx03bBVDy86L",
        "outputId": "fbc7c255-6b18-4711-9cca-535610a8f14a"
      },
      "outputs": [
        {
          "output_type": "stream",
          "name": "stdout",
          "text": [
            "Melhores parâmetros para Random Forest: {'max_depth': 10, 'min_samples_leaf': 2, 'min_samples_split': 2, 'n_estimators': 300}\n"
          ]
        }
      ],
      "source": [
        "from sklearn.model_selection import GridSearchCV\n",
        "\n",
        "param_grid_rf = {\n",
        "    'n_estimators': [100, 200, 300],\n",
        "    'max_depth': [None, 10, 20],\n",
        "    'min_samples_split': [2, 5],\n",
        "    'min_samples_leaf': [1, 2]\n",
        "}\n",
        "\n",
        "grid_search_rf = GridSearchCV(\n",
        "    RandomForestClassifier(random_state=42),\n",
        "    param_grid=param_grid_rf,\n",
        "    scoring='accuracy',\n",
        "    cv=3\n",
        ")\n",
        "\n",
        "grid_search_rf.fit(X_train, y_train)\n",
        "\n",
        "print(f\"Melhores parâmetros para Random Forest: {grid_search_rf.best_params_}\")\n",
        "best_rf_model = grid_search_rf.best_estimator_\n",
        "\n"
      ]
    },
    {
      "cell_type": "code",
      "execution_count": 327,
      "metadata": {
        "colab": {
          "base_uri": "https://localhost:8080/"
        },
        "id": "u_3wbVhP274b",
        "outputId": "688caead-6134-4a16-ffd2-68eafb039c4d"
      },
      "outputs": [
        {
          "output_type": "stream",
          "name": "stdout",
          "text": [
            "Desempenho da Regressão Logística:\n",
            "Acurácia: 0.40\n",
            "\n",
            "Relatório de Classificação:\n",
            "              precision    recall  f1-score   support\n",
            "\n",
            "       False       0.40      0.67      0.50         9\n",
            "        True       0.40      0.18      0.25        11\n",
            "\n",
            "    accuracy                           0.40        20\n",
            "   macro avg       0.40      0.42      0.38        20\n",
            "weighted avg       0.40      0.40      0.36        20\n",
            "\n"
          ]
        }
      ],
      "source": [
        "from sklearn.linear_model import LogisticRegression\n",
        "from sklearn.metrics import accuracy_score, classification_report, confusion_matrix\n",
        "\n",
        "# Criar o modelo de Regressão Logística\n",
        "log_reg_model = LogisticRegression(random_state=42, max_iter=1000)\n",
        "\n",
        "# Treinar o modelo\n",
        "log_reg_model.fit(X_train, y_train)\n",
        "\n",
        "# Fazer previsões\n",
        "y_pred_log_reg = log_reg_model.predict(X_test)\n",
        "\n",
        "# Avaliar o desempenho\n",
        "print(\"Desempenho da Regressão Logística:\")\n",
        "print(f\"Acurácia: {accuracy_score(y_test, y_pred_log_reg):.2f}\")\n",
        "print(\"\\nRelatório de Classificação:\")\n",
        "print(classification_report(y_test, y_pred_log_reg))\n",
        "\n"
      ]
    },
    {
      "cell_type": "code",
      "execution_count": 328,
      "metadata": {
        "colab": {
          "base_uri": "https://localhost:8080/"
        },
        "id": "Ska43FG_zR9Q",
        "outputId": "aaeee406-4c0e-4b2c-a55e-2aa2f081a923"
      },
      "outputs": [
        {
          "output_type": "stream",
          "name": "stdout",
          "text": [
            "Desempenho do Random Forest:\n",
            "Acurácia: 0.40\n",
            "\n",
            "Relatório de Classificação:\n",
            "              precision    recall  f1-score   support\n",
            "\n",
            "       False       0.42      0.89      0.57         9\n",
            "        True       0.00      0.00      0.00        11\n",
            "\n",
            "    accuracy                           0.40        20\n",
            "   macro avg       0.21      0.44      0.29        20\n",
            "weighted avg       0.19      0.40      0.26        20\n",
            "\n"
          ]
        }
      ],
      "source": [
        "from sklearn.ensemble import RandomForestClassifier\n",
        "\n",
        "# Criar o modelo de Random Forest\n",
        "rf_model = RandomForestClassifier(n_estimators=100, random_state=42)\n",
        "\n",
        "# Treinar o modelo\n",
        "rf_model.fit(X_train, y_train)\n",
        "\n",
        "# Fazer previsões\n",
        "y_pred_rf = rf_model.predict(X_test)\n",
        "\n",
        "# Avaliar o desempenho\n",
        "print(\"Desempenho do Random Forest:\")\n",
        "print(f\"Acurácia: {accuracy_score(y_test, y_pred_rf):.2f}\")\n",
        "print(\"\\nRelatório de Classificação:\")\n",
        "print(classification_report(y_test, y_pred_rf))\n",
        "\n"
      ]
    },
    {
      "cell_type": "code",
      "execution_count": 329,
      "metadata": {
        "colab": {
          "base_uri": "https://localhost:8080/"
        },
        "id": "8CMl5LuU2shn",
        "outputId": "b0295a54-de40-4e3d-a3b3-8e695be99c7d"
      },
      "outputs": [
        {
          "output_type": "stream",
          "name": "stdout",
          "text": [
            "Acurácia média (validação cruzada) - Regressão Logística: 0.46\n",
            "Acurácia média (validação cruzada) - Random Forest: 0.48\n"
          ]
        }
      ],
      "source": [
        "from sklearn.model_selection import cross_val_score\n",
        "\n",
        "# Validação cruzada para Regressão Logística\n",
        "log_reg_scores = cross_val_score(LogisticRegression(random_state=42, max_iter=1000), X, y, cv=5, scoring='accuracy')\n",
        "print(f\"Acurácia média (validação cruzada) - Regressão Logística: {log_reg_scores.mean():.2f}\")\n",
        "\n",
        "# Validação cruzada para Random Forest\n",
        "rf_scores = cross_val_score(RandomForestClassifier(n_estimators=100, random_state=42), X, y, cv=5, scoring='accuracy')\n",
        "print(f\"Acurácia média (validação cruzada) - Random Forest: {rf_scores.mean():.2f}\")\n"
      ]
    },
    {
      "cell_type": "code",
      "execution_count": 330,
      "metadata": {
        "colab": {
          "base_uri": "https://localhost:8080/",
          "height": 622
        },
        "id": "QztHSGqH6NUW",
        "outputId": "82dbc018-fc7d-4fc4-9211-0e7a5513c779"
      },
      "outputs": [
        {
          "output_type": "display_data",
          "data": {
            "text/plain": [
              "<Figure size 1200x800 with 1 Axes>"
            ],
            "image/png": "[encoded data removed]"
          },
          "metadata": {}
        }
      ],
      "source": [
        "adjusted_feature_names = []\n",
        "for col in X.columns:\n",
        "    if \"Radiant_\" in col or \"Dire_\" in col:\n",
        "        # Extrair o ID do herói do nome da coluna\n",
        "        hero_id = int(col.split(\"_\")[1])  # Extrai o número após \"Radiant_\" ou \"Dire_\"\n",
        "        adjusted_feature_names.append(hero_id_to_name.get(hero_id, f\"Hero_{hero_id}\"))\n",
        "    else:\n",
        "        adjusted_feature_names.append(col)\n",
        "\n",
        "# Importância das features no Random Forest\n",
        "importances = rf_model.feature_importances_\n",
        "indices = importances.argsort()[::-1]\n",
        "\n",
        "# Visualizar as 10 features mais importantes\n",
        "plt.figure(figsize=(12, 8))\n",
        "plt.title(\"Importância das Features\")\n",
        "plt.bar(range(10), importances[indices[:10]], align=\"center\", color='skyblue')\n",
        "\n",
        "# Nomes das features (heróis) no eixo X\n",
        "plt.xticks(range(10), [adjusted_feature_names[i] for i in indices[:10]], rotation=45, ha=\"right\")\n",
        "plt.xlabel(\"Heróis\")\n",
        "plt.ylabel(\"Importância\")\n",
        "plt.tight_layout()\n",
        "plt.show()\n",
        "\n"
      ]
    },
    {
      "cell_type": "code",
      "execution_count": 331,
      "metadata": {
        "colab": {
          "base_uri": "https://localhost:8080/"
        },
        "id": "Nb8yzuPh7COJ",
        "outputId": "c428a3b0-dd0b-4586-d314-c4d4a5e176b9"
      },
      "outputs": [
        {
          "output_type": "stream",
          "name": "stdout",
          "text": [
            "Acurácia no conjunto de treino: 1.00\n",
            "Acurácia no conjunto de teste: 0.40\n"
          ]
        }
      ],
      "source": [
        "print(f\"Acurácia no conjunto de treino: {log_reg_model.score(X_train, y_train):.2f}\")\n",
        "print(f\"Acurácia no conjunto de teste: {log_reg_model.score(X_test, y_test):.2f}\")\n"
      ]
    },
    {
      "cell_type": "code",
      "execution_count": 332,
      "metadata": {
        "colab": {
          "base_uri": "https://localhost:8080/"
        },
        "id": "oWi_6cVB7FmM",
        "outputId": "95c63eae-f678-43b2-e47c-2689a31e974b"
      },
      "outputs": [
        {
          "output_type": "stream",
          "name": "stdout",
          "text": [
            "Acurácia no conjunto de treino: 1.00\n",
            "Acurácia no conjunto de teste: 0.40\n"
          ]
        }
      ],
      "source": [
        "print(f\"Acurácia no conjunto de treino: {rf_model.score(X_train, y_train):.2f}\")\n",
        "print(f\"Acurácia no conjunto de teste: {rf_model.score(X_test, y_test):.2f}\")\n"
      ]
    }
  ],
  "metadata": {
    "colab": {
      "provenance": [],
      "authorship_tag": "ABX9TyPZQKC8Siijq0xiCaA4vEWO",
      "include_colab_link": true
    },
    "kernelspec": {
      "display_name": "Python 3",
      "name": "python3"
    },
    "language_info": {
      "name": "python"
    }
  },
  "nbformat": 4,
  "nbformat_minor": 0
}