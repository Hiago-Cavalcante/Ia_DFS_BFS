{
  "cells": [
    {
      "cell_type": "markdown",
      "metadata": {
        "id": "view-in-github",
        "colab_type": "text"
      },
      "source": [
        "<a href=\"https://colab.research.google.com/github/Hiago-Cavalcante/Projeto_IA/blob/main/Projeto_Final_IA_Hiago_Cavalcante.ipynb\" target=\"_parent\"><img src=\"https://colab.research.google.com/assets/colab-badge.svg\" alt=\"Open In Colab\"/></a>"
      ]
    },
    {
      "cell_type": "code",
      "execution_count": 295,
      "metadata": {
        "id": "R3-W27WuWCWG"
      },
      "outputs": [],
      "source": [
        "import requests\n",
        "import time\n",
        "import pandas as pd\n",
        "from concurrent.futures import ThreadPoolExecutor, as_completed\n",
        "import queue\n",
        "import threading\n",
        "import random"
      ]
    },
    {
      "cell_type": "code",
      "execution_count": 342,
      "metadata": {
        "colab": {
          "base_uri": "https://localhost:8080/"
        },
        "id": "uXpcnxOEvQYG",
        "outputId": "32a8b357-efad-43be-f3a4-70b5947a7886"
      },
      "outputs": [
        {
          "output_type": "stream",
          "name": "stdout",
          "text": [
            "Coletados: 1 / 100\n",
            "Coletados: 2 / 100\n",
            "Coletados: 3 / 100\n",
            "Coletados: 4 / 100\n",
            "Coletados: 5 / 100\n",
            "Coletados: 6 / 100\n",
            "Coletados: 7 / 100\n",
            "Coletados: 8 / 100\n",
            "Coletados: 9 / 100\n",
            "Coletados: 10 / 100\n",
            "Coletados: 11 / 100\n",
            "Coletados: 12 / 100\n",
            "Coletados: 13 / 100\n",
            "Coletados: 14 / 100\n",
            "Coletados: 15 / 100\n",
            "Coletados: 16 / 100\n",
            "Coletados: 17 / 100\n",
            "Coletados: 18 / 100\n",
            "Coletados: 19 / 100\n",
            "Coletados: 20 / 100\n",
            "Coletados: 21 / 100\n",
            "Coletados: 22 / 100\n",
            "Coletados: 23 / 100\n",
            "Coletados: 24 / 100\n",
            "Coletados: 25 / 100\n",
            "Coletados: 26 / 100\n",
            "Coletados: 27 / 100\n",
            "Coletados: 28 / 100\n",
            "Coletados: 29 / 100\n",
            "Coletados: 30 / 100\n",
            "Coletados: 31 / 100\n",
            "Coletados: 32 / 100\n",
            "Coletados: 33 / 100\n",
            "Coletados: 34 / 100\n",
            "Coletados: 35 / 100\n",
            "Coletados: 36 / 100\n",
            "Coletados: 37 / 100\n",
            "Coletados: 38 / 100\n",
            "Coletados: 39 / 100\n",
            "Coletados: 40 / 100\n",
            "Coletados: 41 / 100\n",
            "Coletados: 42 / 100\n",
            "Coletados: 43 / 100\n",
            "Coletados: 44 / 100\n",
            "Coletados: 45 / 100\n",
            "Coletados: 46 / 100\n",
            "Coletados: 47 / 100\n",
            "Coletados: 48 / 100\n",
            "Coletados: 49 / 100\n",
            "Coletados: 50 / 100\n",
            "Coletados: 51 / 100\n",
            "Coletados: 52 / 100\n",
            "Coletados: 53 / 100\n",
            "Rate limit. Aguardando 86.23 segundos...\n",
            "Rate limit. Aguardando 109.29 segundos...\n",
            "Rate limit. Aguardando 119.54 segundos...\n",
            "Rate limit. Aguardando 97.26 segundos...\n",
            "Coletados: 54 / 100\n",
            "Coletados: 55 / 100\n",
            "Coletados: 56 / 100\n",
            "Rate limit. Aguardando 63.42 segundos...\n",
            "Coletados: 57 / 100\n",
            "Coletados: 58 / 100\n",
            "Rate limit. Aguardando 101.50 segundos...\n",
            "Rate limit. Aguardando 94.08 segundos...\n",
            "Coletados: 59 / 100\n",
            "Rate limit. Aguardando 109.50 segundos...\n",
            "Rate limit. Aguardando 91.13 segundos...\n",
            "Rate limit. Aguardando 60.47 segundos...\n",
            "Coletados: 60 / 100\n",
            "Coletados: 61 / 100\n",
            "Coletados: 62 / 100\n",
            "Coletados: 63 / 100\n",
            "Coletados: 64 / 100\n",
            "Coletados: 65 / 100\n",
            "Coletados: 66 / 100\n",
            "Coletados: 67 / 100\n",
            "Coletados: 68 / 100\n",
            "Coletados: 69 / 100\n",
            "Coletados: 70 / 100\n",
            "Coletados: 71 / 100\n",
            "Coletados: 72 / 100\n",
            "Coletados: 73 / 100\n",
            "Coletados: 74 / 100\n",
            "Coletados: 75 / 100\n",
            "Coletados: 76 / 100\n",
            "Coletados: 77 / 100\n",
            "Coletados: 78 / 100\n",
            "Coletados: 79 / 100\n",
            "Coletados: 80 / 100\n",
            "Coletados: 81 / 100\n",
            "Coletados: 82 / 100\n",
            "Coletados: 83 / 100\n",
            "Coletados: 84 / 100\n",
            "Coletados: 85 / 100\n",
            "Coletados: 86 / 100\n",
            "Coletados: 87 / 100\n",
            "Coletados: 88 / 100\n",
            "Coletados: 89 / 100\n",
            "Coletados: 90 / 100\n",
            "Coletados: 91 / 100\n",
            "Coletados: 92 / 100\n",
            "Coletados: 93 / 100\n",
            "Coletados: 94 / 100\n",
            "Coletados: 95 / 100\n",
            "Coletados: 96 / 100\n",
            "Coletados: 97 / 100\n",
            "Coletados: 98 / 100\n",
            "Coletados: 99 / 100\n",
            "Coletados: 100 / 100\n",
            "Coleta concluída. Total de matches: 100\n"
          ]
        }
      ],
      "source": [
        "class DotaAPICollector:\n",
        "    def __init__(self, base_url=\"https://api.opendota.com/api\", max_requests_per_minute=60):\n",
        "        self.BASE_URL = base_url\n",
        "        self.MAX_REQUESTS_PER_MINUTE = max_requests_per_minute\n",
        "        self.request_queue = queue.Queue()\n",
        "        self.processed_ids = set()\n",
        "        self.matches_data = []\n",
        "        self.lock = threading.Lock()\n",
        "        self.retry_delay = 60  # Tempo de espera inicial em segundos\n",
        "\n",
        "    def get_public_match_ids(self, batch_size=100):\n",
        "        while True:\n",
        "            try:\n",
        "                response = requests.get(f\"{self.BASE_URL}/proMatches\")\n",
        "                if response.status_code == 200:\n",
        "                    matches = response.json()\n",
        "                    return [match['match_id'] for match in matches[:batch_size]]\n",
        "                elif response.status_code == 429:\n",
        "                    print(\"Rate limit atingido. Aguardando...\")\n",
        "                    time.sleep(self.retry_delay)\n",
        "                    self.retry_delay *= 2  # Exponential backoff\n",
        "                    continue\n",
        "                else:\n",
        "                    print(f\"Erro ao acessar publicMatches: {response.status_code}\")\n",
        "                    return []\n",
        "            except Exception as e:\n",
        "                print(f\"Erro na coleta de match IDs: {e}\")\n",
        "                time.sleep(self.retry_delay)\n",
        "                return []\n",
        "\n",
        "    def get_match_details(self, match_id):\n",
        "        while True:\n",
        "            try:\n",
        "                response = requests.get(f\"{self.BASE_URL}/matches/{match_id}\")\n",
        "                if response.status_code == 200:\n",
        "                    match_data = response.json()\n",
        "                    return {\n",
        "                        \"Match_ID\": match_id,\n",
        "                        \"Radiant_Heroes\": [pick['hero_id'] for pick in match_data.get('picks_bans', []) if pick['team'] == 0],\n",
        "                        \"Dire_Heroes\": [pick['hero_id'] for pick in match_data.get('picks_bans', []) if pick['team'] == 1],\n",
        "                        \"Radiant_Win\": match_data.get('radiant_win', False)\n",
        "                    }\n",
        "                elif response.status_code == 429:\n",
        "                    wait_time = random.uniform(60, 120)\n",
        "                    print(f\"Rate limit. Aguardando {wait_time:.2f} segundos...\")\n",
        "                    time.sleep(wait_time)\n",
        "                    continue\n",
        "                else:\n",
        "                    print(f\"Erro {response.status_code} no match {match_id}\")\n",
        "                    return None\n",
        "            except Exception as e:\n",
        "                print(f\"Erro ao processar match_id {match_id}: {e}\")\n",
        "                time.sleep(random.uniform(30, 60))\n",
        "                return None\n",
        "\n",
        "    def collect_matches(self, total_matches=1000):\n",
        "        while len(self.matches_data) < total_matches:\n",
        "            # Obtém novos match IDs\n",
        "            match_ids = self.get_public_match_ids()\n",
        "\n",
        "            # Processamento em threads\n",
        "            with ThreadPoolExecutor(max_workers=10) as executor:\n",
        "                futures = {\n",
        "                    executor.submit(self.get_match_details, match_id): match_id\n",
        "                    for match_id in match_ids\n",
        "                    if match_id not in self.processed_ids\n",
        "                }\n",
        "\n",
        "                for future in as_completed(futures):\n",
        "                    match_details = future.result()\n",
        "                    if match_details:\n",
        "                        with self.lock:\n",
        "                            self.matches_data.append(match_details)\n",
        "                            self.processed_ids.add(match_details['Match_ID'])\n",
        "                            print(f\"Coletados: {len(self.matches_data)} / {total_matches}\")\n",
        "\n",
        "                    # Para coleta se atingir limite\n",
        "                    if len(self.matches_data) >= total_matches:\n",
        "                        break\n",
        "\n",
        "            # Pausa entre lotes\n",
        "            time.sleep(random.uniform(5, 10))\n",
        "\n",
        "        return self.matches_data\n",
        "\n",
        "# Uso\n",
        "if __name__ == \"__main__\":\n",
        "    collector = DotaAPICollector()\n",
        "    matches = collector.collect_matches(total_matches=100)\n",
        "\n",
        "    # Salva dados\n",
        "    pd.DataFrame(matches).to_csv(\"dota_matches.csv\", index=False)\n",
        "    print(f\"Coleta concluída. Total de matches: {len(matches)}\")\n",
        "\n",
        "\n"
      ]
    },
    {
      "cell_type": "code",
      "execution_count": 343,
      "metadata": {
        "colab": {
          "base_uri": "https://localhost:8080/"
        },
        "id": "3Qv8ACvlC7XE",
        "outputId": "33eeb8be-7994-424f-e61e-16c95ee9ad07"
      },
      "outputs": [
        {
          "output_type": "stream",
          "name": "stdout",
          "text": [
            "     Match_ID                                     Radiant_Heroes  \\\n",
            "0  8066067859  [79, 100, 104, 86, 22, 63, 101, 69, 106, 114, ...   \n",
            "1  8065949434  [73, 49, 135, 25, 128, 86, 97, 22, 106, 41, 94...   \n",
            "2  8065853700   [73, 49, 97, 22, 19, 69, 45, 79, 72, 15, 95, 29]   \n",
            "3  8065902119    [62, 90, 51, 45, 71, 61, 89, 20, 94, 1, 93, 74]   \n",
            "4  8066032611  [112, 110, 120, 88, 14, 9, 119, 2, 74, 136, 50...   \n",
            "\n",
            "                                         Dire_Heroes  Radiant_Win  \n",
            "0  [112, 21, 110, 120, 50, 119, 19, 61, 10, 55, 8...        False  \n",
            "1  [65, 77, 98, 110, 84, 69, 129, 100, 114, 95, 7...        False  \n",
            "2  [110, 135, 74, 25, 51, 119, 65, 84, 77, 99, 12...        False  \n",
            "3  [38, 67, 88, 110, 79, 70, 84, 23, 25, 129, 35,...         True  \n",
            "4  [79, 100, 21, 31, 105, 104, 51, 15, 19, 10, 46...        False  \n",
            "<class 'pandas.core.frame.DataFrame'>\n",
            "RangeIndex: 100 entries, 0 to 99\n",
            "Data columns (total 4 columns):\n",
            " #   Column          Non-Null Count  Dtype \n",
            "---  ------          --------------  ----- \n",
            " 0   Match_ID        100 non-null    int64 \n",
            " 1   Radiant_Heroes  100 non-null    object\n",
            " 2   Dire_Heroes     100 non-null    object\n",
            " 3   Radiant_Win     100 non-null    bool  \n",
            "dtypes: bool(1), int64(1), object(2)\n",
            "memory usage: 2.6+ KB\n",
            "None\n",
            "           Match_ID\n",
            "count  1.000000e+02\n",
            "mean   8.064924e+09\n",
            "std    6.456904e+05\n",
            "min    8.063730e+09\n",
            "25%    8.064473e+09\n",
            "50%    8.065055e+09\n",
            "75%    8.065322e+09\n",
            "max    8.066068e+09\n"
          ]
        }
      ],
      "source": [
        "\n",
        "df = pd.read_csv(\"dota_matches.csv\")\n",
        "\n",
        "# Visualizar as primeiras linhas\n",
        "print(df.head())\n",
        "\n",
        "# Obter informações sobre os dados\n",
        "print(df.info())\n",
        "print(df.describe())"
      ]
    },
    {
      "cell_type": "code",
      "execution_count": 344,
      "metadata": {
        "id": "HKZIeyIpRURL"
      },
      "outputs": [],
      "source": [
        "\n",
        "import ast\n",
        "\n",
        "# Converter as colunas para listas reais\n",
        "df['Radiant_Heroes'] = df['Radiant_Heroes'].apply(ast.literal_eval)\n",
        "df['Dire_Heroes'] = df['Dire_Heroes'].apply(ast.literal_eval)\n",
        "\n"
      ]
    },
    {
      "cell_type": "code",
      "execution_count": 345,
      "metadata": {
        "colab": {
          "base_uri": "https://localhost:8080/"
        },
        "id": "fVzHTvmzQoPN",
        "outputId": "3859d2f9-a87e-4e14-cb90-0156bd42341e"
      },
      "outputs": [
        {
          "output_type": "stream",
          "name": "stdout",
          "text": [
            "Radiant_Win\n",
            "False    0.54\n",
            "True     0.46\n",
            "Name: proportion, dtype: float64\n"
          ]
        }
      ],
      "source": [
        "print(df['Radiant_Win'].value_counts(normalize=True))\n"
      ]
    },
    {
      "cell_type": "code",
      "execution_count": 346,
      "metadata": {
        "colab": {
          "base_uri": "https://localhost:8080/"
        },
        "id": "1OTcdgU2Q4zg",
        "outputId": "09925d96-74b3-42c7-81eb-87d8d9313615"
      },
      "outputs": [
        {
          "output_type": "stream",
          "name": "stdout",
          "text": [
            "[(110, 62), (51, 55), (74, 55), (97, 53), (25, 52), (88, 51), (112, 48), (86, 47), (84, 46), (49, 43)]\n"
          ]
        }
      ],
      "source": [
        "from collections import Counter\n",
        "\n",
        "all_heroes = df['Radiant_Heroes'].explode().tolist() + df['Dire_Heroes'].explode().tolist()\n",
        "hero_counts = Counter(all_heroes)\n",
        "print(hero_counts.most_common(10))"
      ]
    },
    {
      "cell_type": "code",
      "execution_count": 347,
      "metadata": {
        "colab": {
          "base_uri": "https://localhost:8080/"
        },
        "id": "jlzqsjFSSB6C",
        "outputId": "d44fb4c7-e60d-4a08-8ab2-bcdde22dbc96"
      },
      "outputs": [
        {
          "output_type": "stream",
          "name": "stdout",
          "text": [
            "[('Phoenix', 62), ('Clockwerk', 55), ('Invoker', 55), ('Magnus', 53), ('Lina', 52), ('Nyx Assassin', 51), ('Winter Wyvern', 48), ('Rubick', 47), ('Ogre Magi', 46), ('Dragon Knight', 43)]\n"
          ]
        }
      ],
      "source": [
        "response = requests.get(\"https://api.opendota.com/api/heroes\")\n",
        "if response.status_code == 200:\n",
        "    heroes = response.json()\n",
        "    hero_map = {hero['id']: hero['localized_name'] for hero in heroes}\n",
        "\n",
        "    hero_counts_named = [(hero_map[hero_id], count) for hero_id, count in hero_counts.most_common(10)]\n",
        "    print(hero_counts_named)\n"
      ]
    },
    {
      "cell_type": "code",
      "execution_count": 348,
      "metadata": {
        "colab": {
          "base_uri": "https://localhost:8080/"
        },
        "id": "Dgh1tnXMYBqG",
        "outputId": "fa9c4639-d49b-4fb6-d0de-ecf694b91ab7"
      },
      "outputs": [
        {
          "output_type": "stream",
          "name": "stdout",
          "text": [
            "Mapeamento criado com sucesso!\n"
          ]
        }
      ],
      "source": [
        "\n",
        "# URL da API para obter heróis\n",
        "heroes_url = \"https://api.opendota.com/api/heroes\"\n",
        "\n",
        "# Fazer a requisição\n",
        "response = requests.get(heroes_url)\n",
        "if response.status_code == 200:\n",
        "    heroes = response.json()\n",
        "    hero_id_to_name = {hero['id']: hero['localized_name'] for hero in heroes}\n",
        "    print(\"Mapeamento criado com sucesso!\")\n",
        "else:\n",
        "    print(f\"Erro ao acessar a API: {response.status_code}\")\n"
      ]
    },
    {
      "cell_type": "code",
      "execution_count": 349,
      "metadata": {
        "colab": {
          "base_uri": "https://localhost:8080/"
        },
        "id": "uYLzcBykYEs3",
        "outputId": "9d7a3812-17b7-4cd8-88ac-ae6898c996a4"
      },
      "outputs": [
        {
          "output_type": "stream",
          "name": "stdout",
          "text": [
            "{1: 'Anti-Mage', 2: 'Axe', 3: 'Bane', 4: 'Bloodseeker', 5: 'Crystal Maiden', 6: 'Drow Ranger', 7: 'Earthshaker', 8: 'Juggernaut', 9: 'Mirana', 10: 'Morphling', 11: 'Shadow Fiend', 12: 'Phantom Lancer', 13: 'Puck', 14: 'Pudge', 15: 'Razor', 16: 'Sand King', 17: 'Storm Spirit', 18: 'Sven', 19: 'Tiny', 20: 'Vengeful Spirit', 21: 'Windranger', 22: 'Zeus', 23: 'Kunkka', 25: 'Lina', 26: 'Lion', 27: 'Shadow Shaman', 28: 'Slardar', 29: 'Tidehunter', 30: 'Witch Doctor', 31: 'Lich', 32: 'Riki', 33: 'Enigma', 34: 'Tinker', 35: 'Sniper', 36: 'Necrophos', 37: 'Warlock', 38: 'Beastmaster', 39: 'Queen of Pain', 40: 'Venomancer', 41: 'Faceless Void', 42: 'Wraith King', 43: 'Death Prophet', 44: 'Phantom Assassin', 45: 'Pugna', 46: 'Templar Assassin', 47: 'Viper', 48: 'Luna', 49: 'Dragon Knight', 50: 'Dazzle', 51: 'Clockwerk', 52: 'Leshrac', 53: \"Nature's Prophet\", 54: 'Lifestealer', 55: 'Dark Seer', 56: 'Clinkz', 57: 'Omniknight', 58: 'Enchantress', 59: 'Huskar', 60: 'Night Stalker', 61: 'Broodmother', 62: 'Bounty Hunter', 63: 'Weaver', 64: 'Jakiro', 65: 'Batrider', 66: 'Chen', 67: 'Spectre', 68: 'Ancient Apparition', 69: 'Doom', 70: 'Ursa', 71: 'Spirit Breaker', 72: 'Gyrocopter', 73: 'Alchemist', 74: 'Invoker', 75: 'Silencer', 76: 'Outworld Destroyer', 77: 'Lycan', 78: 'Brewmaster', 79: 'Shadow Demon', 80: 'Lone Druid', 81: 'Chaos Knight', 82: 'Meepo', 83: 'Treant Protector', 84: 'Ogre Magi', 85: 'Undying', 86: 'Rubick', 87: 'Disruptor', 88: 'Nyx Assassin', 89: 'Naga Siren', 90: 'Keeper of the Light', 91: 'Io', 92: 'Visage', 93: 'Slark', 94: 'Medusa', 95: 'Troll Warlord', 96: 'Centaur Warrunner', 97: 'Magnus', 98: 'Timbersaw', 99: 'Bristleback', 100: 'Tusk', 101: 'Skywrath Mage', 102: 'Abaddon', 103: 'Elder Titan', 104: 'Legion Commander', 105: 'Techies', 106: 'Ember Spirit', 107: 'Earth Spirit', 108: 'Underlord', 109: 'Terrorblade', 110: 'Phoenix', 111: 'Oracle', 112: 'Winter Wyvern', 113: 'Arc Warden', 114: 'Monkey King', 119: 'Dark Willow', 120: 'Pangolier', 121: 'Grimstroke', 123: 'Hoodwink', 126: 'Void Spirit', 128: 'Snapfire', 129: 'Mars', 131: 'Ringmaster', 135: 'Dawnbreaker', 136: 'Marci', 137: 'Primal Beast', 138: 'Muerta', 145: 'Kez'}\n"
          ]
        }
      ],
      "source": [
        "print(hero_id_to_name)"
      ]
    },
    {
      "cell_type": "code",
      "execution_count": 350,
      "metadata": {
        "colab": {
          "base_uri": "https://localhost:8080/",
          "height": 472
        },
        "collapsed": true,
        "id": "yUcUwoEdT4X3",
        "outputId": "a2d1e100-ae8e-4dbf-e7b1-74cdfba0336e"
      },
      "outputs": [
        {
          "output_type": "display_data",
          "data": {
            "text/plain": [
              "<Figure size 640x480 with 1 Axes>"
            ],
            "image/png": "[encoded data removed]"
          },
          "metadata": {}
        }
      ],
      "source": [
        "import matplotlib.pyplot as plt\n",
        "\n",
        "heroes, counts = zip(*hero_counts_named)\n",
        "plt.barh(heroes, counts, color='skyblue')\n",
        "plt.xlabel('Escolhas')\n",
        "plt.ylabel('Heróis')\n",
        "plt.title('Heróis Mais Escolhidos')\n",
        "plt.gca().invert_yaxis()\n",
        "plt.show()\n"
      ]
    },
    {
      "cell_type": "code",
      "execution_count": 351,
      "metadata": {
        "id": "zUGgYtKLY1rh"
      },
      "outputs": [],
      "source": [
        "df_cleaned = df.dropna(subset=['Radiant_Heroes', 'Dire_Heroes'])"
      ]
    },
    {
      "cell_type": "code",
      "execution_count": 352,
      "metadata": {
        "colab": {
          "base_uri": "https://localhost:8080/"
        },
        "id": "tsw433b6X3PC",
        "outputId": "d8e54bdd-55b8-44b5-d6f4-ab7d38f06a89"
      },
      "outputs": [
        {
          "output_type": "stream",
          "name": "stdout",
          "text": [
            "Taxa de vitória dos heróis:\n",
            "Bloodseeker: 100.00%\n",
            "Disruptor: 83.33%\n",
            "Elder Titan: 80.00%\n",
            "Warlock: 69.57%\n",
            "Enigma: 68.75%\n",
            "Shadow Shaman: 66.67%\n",
            "Tinker: 66.67%\n",
            "Oracle: 66.67%\n",
            "Mars: 64.29%\n",
            "Tusk: 63.64%\n",
            "Broodmother: 62.50%\n",
            "Slark: 62.50%\n",
            "Primal Beast: 62.50%\n",
            "Juggernaut: 62.50%\n",
            "Nature's Prophet: 62.50%\n",
            "Viper: 62.50%\n",
            "Lich: 61.54%\n",
            "Tiny: 61.11%\n",
            "Visage: 61.11%\n",
            "Muerta: 61.11%\n",
            "Void Spirit: 60.87%\n",
            "Invoker: 60.00%\n",
            "Naga Siren: 60.00%\n",
            "Monkey King: 60.00%\n",
            "Huskar: 60.00%\n",
            "Marci: 59.09%\n",
            "Crystal Maiden: 58.33%\n",
            "Sniper: 58.33%\n",
            "Earth Spirit: 57.89%\n",
            "Luna: 57.14%\n",
            "Necrophos: 57.14%\n",
            "Dawnbreaker: 56.52%\n",
            "Mirana: 56.52%\n",
            "Winter Wyvern: 56.25%\n",
            "Lifestealer: 56.25%\n",
            "Shadow Demon: 55.56%\n",
            "Razor: 55.56%\n",
            "Rubick: 55.32%\n",
            "Pangolier: 55.00%\n",
            "Bounty Hunter: 54.55%\n",
            "Windranger: 54.55%\n",
            "Ursa: 54.55%\n",
            "Lone Druid: 54.55%\n",
            "Storm Spirit: 54.17%\n",
            "Pugna: 54.17%\n",
            "Lina: 53.85%\n",
            "Sand King: 53.85%\n",
            "Bristleback: 53.57%\n",
            "Techies: 53.33%\n",
            "Ogre Magi: 53.19%\n",
            "Lycan: 52.94%\n",
            "Phoenix: 52.46%\n",
            "Batrider: 52.00%\n",
            "Queen of Pain: 51.72%\n",
            "Doom: 51.28%\n",
            "Shadow Fiend: 51.22%\n",
            "Magnus: 50.94%\n",
            "Dragon Knight: 50.00%\n",
            "Anti-Mage: 50.00%\n",
            "Io: 50.00%\n",
            "Centaur Warrunner: 50.00%\n",
            "Meepo: 50.00%\n",
            "Drow Ranger: 50.00%\n",
            "Bane: 50.00%\n",
            "Earthshaker: 50.00%\n",
            "Undying: 50.00%\n",
            "Silencer: 50.00%\n",
            "Abaddon: 50.00%\n",
            "Ancient Apparition: 50.00%\n",
            "Outworld Destroyer: 50.00%\n",
            "Witch Doctor: 50.00%\n",
            "Kunkka: 50.00%\n",
            "Timbersaw: 48.00%\n",
            "Beastmaster: 47.22%\n",
            "Terrorblade: 46.88%\n",
            "Morphling: 46.88%\n",
            "Gyrocopter: 46.43%\n",
            "Clockwerk: 46.43%\n",
            "Skywrath Mage: 46.15%\n",
            "Brewmaster: 46.15%\n",
            "Spectre: 46.15%\n",
            "Nyx Assassin: 46.00%\n",
            "Keeper of the Light: 45.45%\n",
            "Chaos Knight: 45.45%\n",
            "Medusa: 44.00%\n",
            "Hoodwink: 44.00%\n",
            "Puck: 43.75%\n",
            "Zeus: 42.86%\n",
            "Vengeful Spirit: 42.86%\n",
            "Dark Seer: 42.86%\n",
            "Sven: 42.86%\n",
            "Weaver: 42.31%\n",
            "Pudge: 42.31%\n",
            "Alchemist: 41.67%\n",
            "Lion: 41.67%\n",
            "Phantom Assassin: 41.18%\n",
            "Faceless Void: 40.00%\n",
            "Venomancer: 40.00%\n",
            "Night Stalker: 40.00%\n",
            "Snapfire: 37.50%\n",
            "Jakiro: 37.50%\n",
            "Chen: 36.36%\n",
            "Dark Willow: 33.33%\n",
            "Dazzle: 33.33%\n",
            "Ember Spirit: 33.33%\n",
            "Tidehunter: 33.33%\n",
            "Riki: 33.33%\n",
            "Death Prophet: 33.33%\n",
            "Legion Commander: 33.33%\n",
            "Clinkz: 33.33%\n",
            "Grimstroke: 33.33%\n",
            "Phantom Lancer: 33.33%\n",
            "Omniknight: 33.33%\n",
            "Axe: 30.77%\n",
            "Spirit Breaker: 30.43%\n",
            "Wraith King: 30.00%\n",
            "Templar Assassin: 29.41%\n",
            "Slardar: 28.57%\n",
            "Troll Warlord: 27.27%\n",
            "Enchantress: 21.05%\n"
          ]
        }
      ],
      "source": [
        "\n",
        "\n",
        "win_rates_cleaned = {hero: rate for hero, rate in win_rates_named.items() if rate > 0}\n",
        "win_rates_named = {hero: (rate if not isinstance(rate, float) or not pd.isna(rate) else 0) for hero, rate in win_rates_named.items()}\n",
        "# Exibir resultados sem 'nan'\n",
        "print(\"Taxa de vitória dos heróis:\")\n",
        "for hero, win_rate in sorted(win_rates_named.items(), key=lambda x: x[1], reverse=True):\n",
        "    if win_rate > 0:\n",
        "        print(f\"{hero}: {win_rate:.2%}\")\n",
        "\n"
      ]
    },
    {
      "cell_type": "code",
      "execution_count": 354,
      "metadata": {
        "colab": {
          "base_uri": "https://localhost:8080/"
        },
        "id": "VRHpJTQHlLCD",
        "outputId": "e760774e-13c6-4bb6-ed99-81b0980a6bbb"
      },
      "outputs": [
        {
          "output_type": "stream",
          "name": "stdout",
          "text": [
            "Index(['Match_ID', 'Radiant_Heroes', 'Dire_Heroes', 'Radiant_Win'], dtype='object')\n"
          ]
        }
      ],
      "source": [
        "print(df.columns)\n"
      ]
    },
    {
      "cell_type": "code",
      "execution_count": 358,
      "metadata": {
        "id": "FZn7cUICm_xB",
        "colab": {
          "base_uri": "https://localhost:8080/"
        },
        "outputId": "dcaae0e1-d27d-474b-fdeb-6bc3c0a7c5a7"
      },
      "outputs": [
        {
          "output_type": "stream",
          "name": "stderr",
          "text": [
            "/usr/local/lib/python3.10/dist-packages/sklearn/preprocessing/_label.py:900: UserWarning: unknown class(es) [108, 57, 59, 83] will be ignored\n",
            "  warnings.warn(\n"
          ]
        }
      ],
      "source": [
        "from sklearn.preprocessing import MultiLabelBinarizer\n",
        "\n",
        "\n",
        "# Codificar heróis escolhidos\n",
        "mlb = MultiLabelBinarizer()\n",
        "radiant_encoded = mlb.fit_transform(df['Radiant_Heroes'])\n",
        "dire_encoded = mlb.transform(df['Dire_Heroes'])\n",
        "\n",
        "# Criar DataFrame com heróis codificados\n",
        "radiant_df = pd.DataFrame(radiant_encoded, columns=[\"Radiant_\" + str(hero) for hero in mlb.classes_])\n",
        "dire_df = pd.DataFrame(dire_encoded, columns=[\"Dire_\" + str(hero) for hero in mlb.classes_])\n",
        "\n",
        "# Combinar com o resultado da partida\n",
        "final_df = pd.concat([radiant_df, dire_df, df['Radiant_Win']], axis=1)\n"
      ]
    },
    {
      "cell_type": "code",
      "source": [
        "print(final_df.info())\n",
        "print(final_df.head())\n"
      ],
      "metadata": {
        "colab": {
          "base_uri": "https://localhost:8080/"
        },
        "id": "nP8jXYQadyfh",
        "outputId": "185e4ca4-02d4-4980-9414-4194f2c895ae"
      },
      "execution_count": 359,
      "outputs": [
        {
          "output_type": "stream",
          "name": "stdout",
          "text": [
            "<class 'pandas.core.frame.DataFrame'>\n",
            "RangeIndex: 100 entries, 0 to 99\n",
            "Columns: 241 entries, Radiant_1 to Radiant_Win\n",
            "dtypes: bool(1), int64(240)\n",
            "memory usage: 187.7 KB\n",
            "None\n",
            "   Radiant_1  Radiant_2  Radiant_3  Radiant_4  Radiant_5  Radiant_6  \\\n",
            "0          0          0          0          0          0          0   \n",
            "1          0          0          0          0          0          0   \n",
            "2          0          0          0          0          0          0   \n",
            "3          1          0          0          0          0          0   \n",
            "4          0          1          0          0          0          0   \n",
            "\n",
            "   Radiant_7  Radiant_8  Radiant_9  Radiant_10  ...  Dire_121  Dire_123  \\\n",
            "0          0          0          0           0  ...         0         0   \n",
            "1          0          0          0           0  ...         0         0   \n",
            "2          0          0          0           0  ...         0         0   \n",
            "3          0          0          0           0  ...         0         0   \n",
            "4          0          0          1           0  ...         0         0   \n",
            "\n",
            "   Dire_126  Dire_128  Dire_129  Dire_135  Dire_136  Dire_137  Dire_138  \\\n",
            "0         0         0         0         0         0         0         0   \n",
            "1         0         0         1         0         0         0         0   \n",
            "2         0         0         1         1         0         0         0   \n",
            "3         0         0         1         0         0         0         0   \n",
            "4         0         0         0         0         0         0         0   \n",
            "\n",
            "   Radiant_Win  \n",
            "0        False  \n",
            "1        False  \n",
            "2        False  \n",
            "3         True  \n",
            "4        False  \n",
            "\n",
            "[5 rows x 241 columns]\n"
          ]
        }
      ]
    },
    {
      "cell_type": "code",
      "execution_count": 364,
      "metadata": {
        "id": "YSZXU3wa3o0B",
        "colab": {
          "base_uri": "https://localhost:8080/"
        },
        "outputId": "b119ee33-6549-48b1-87ef-c7b4d25cd2e9"
      },
      "outputs": [
        {
          "output_type": "stream",
          "name": "stdout",
          "text": [
            "Conjunto de treinamento: 80 amostras\n",
            "Conjunto de teste: 20 amostras\n"
          ]
        }
      ],
      "source": [
        "\n",
        "from sklearn.model_selection import train_test_split\n",
        "\n",
        "X = final_df.drop('Radiant_Win', axis=1)  # Features (heróis escolhidos)\n",
        "y = final_df['Radiant_Win']  # Rótulo (se o Radiant venceu)\n",
        "\n",
        "# Divisão\n",
        "X_train, X_test, y_train, y_test = train_test_split(X, y, test_size=0.2, random_state=42)\n",
        "\n",
        "print(f\"Conjunto de treinamento: {X_train.shape[0]} amostras\")\n",
        "print(f\"Conjunto de teste: {X_test.shape[0]} amostras\")\n"
      ]
    },
    {
      "cell_type": "code",
      "source": [
        "print(X.shape)"
      ],
      "metadata": {
        "colab": {
          "base_uri": "https://localhost:8080/"
        },
        "id": "0c0wpxHdQZBi",
        "outputId": "ce826649-73e0-4233-f363-d67f5888919e"
      },
      "execution_count": 363,
      "outputs": [
        {
          "output_type": "stream",
          "name": "stdout",
          "text": [
            "(100, 240)\n"
          ]
        }
      ]
    },
    {
      "cell_type": "code",
      "execution_count": 365,
      "metadata": {
        "colab": {
          "base_uri": "https://localhost:8080/"
        },
        "id": "Fx03bBVDy86L",
        "outputId": "f330e1b4-38ea-491a-ad32-340f99276756"
      },
      "outputs": [
        {
          "output_type": "stream",
          "name": "stdout",
          "text": [
            "Melhores parâmetros para Random Forest: {'max_depth': None, 'min_samples_leaf': 1, 'min_samples_split': 2, 'n_estimators': 100}\n"
          ]
        }
      ],
      "source": [
        "from sklearn.model_selection import GridSearchCV\n",
        "\n",
        "param_grid_rf = {\n",
        "    'n_estimators': [100, 200, 300],\n",
        "    'max_depth': [None, 10, 20],\n",
        "    'min_samples_split': [2, 5],\n",
        "    'min_samples_leaf': [1, 2]\n",
        "}\n",
        "\n",
        "grid_search_rf = GridSearchCV(\n",
        "    RandomForestClassifier(random_state=42),\n",
        "    param_grid=param_grid_rf,\n",
        "    scoring='accuracy',\n",
        "    cv=3\n",
        ")\n",
        "\n",
        "grid_search_rf.fit(X_train, y_train)\n",
        "\n",
        "print(f\"Melhores parâmetros para Random Forest: {grid_search_rf.best_params_}\")\n",
        "best_rf_model = grid_search_rf.best_estimator_\n",
        "\n"
      ]
    },
    {
      "cell_type": "code",
      "execution_count": 366,
      "metadata": {
        "colab": {
          "base_uri": "https://localhost:8080/"
        },
        "id": "u_3wbVhP274b",
        "outputId": "eab8aa95-ba15-4bab-a918-344b0c42fa72"
      },
      "outputs": [
        {
          "output_type": "stream",
          "name": "stdout",
          "text": [
            "Desempenho da Regressão Logística:\n",
            "Acurácia: 0.65\n",
            "\n",
            "Relatório de Classificação:\n",
            "              precision    recall  f1-score   support\n",
            "\n",
            "       False       0.69      0.75      0.72        12\n",
            "        True       0.57      0.50      0.53         8\n",
            "\n",
            "    accuracy                           0.65        20\n",
            "   macro avg       0.63      0.62      0.63        20\n",
            "weighted avg       0.64      0.65      0.65        20\n",
            "\n"
          ]
        }
      ],
      "source": [
        "from sklearn.linear_model import LogisticRegression\n",
        "from sklearn.metrics import accuracy_score, classification_report, confusion_matrix\n",
        "\n",
        "# Criar o modelo de Regressão Logística\n",
        "log_reg_model = LogisticRegression(random_state=42, max_iter=1000)\n",
        "\n",
        "# Treinar o modelo\n",
        "log_reg_model.fit(X_train, y_train)\n",
        "\n",
        "# Fazer previsões\n",
        "y_pred_log_reg = log_reg_model.predict(X_test)\n",
        "\n",
        "# Avaliar o desempenho\n",
        "print(\"Desempenho da Regressão Logística:\")\n",
        "print(f\"Acurácia: {accuracy_score(y_test, y_pred_log_reg):.2f}\")\n",
        "print(\"\\nRelatório de Classificação:\")\n",
        "print(classification_report(y_test, y_pred_log_reg))\n",
        "\n"
      ]
    },
    {
      "cell_type": "code",
      "execution_count": 367,
      "metadata": {
        "colab": {
          "base_uri": "https://localhost:8080/"
        },
        "id": "Ska43FG_zR9Q",
        "outputId": "43c72a75-2c9b-4ef9-d720-f4be9f9074a9"
      },
      "outputs": [
        {
          "output_type": "stream",
          "name": "stdout",
          "text": [
            "Desempenho do Random Forest:\n",
            "Acurácia: 0.70\n",
            "\n",
            "Relatório de Classificação:\n",
            "              precision    recall  f1-score   support\n",
            "\n",
            "       False       0.71      0.83      0.77        12\n",
            "        True       0.67      0.50      0.57         8\n",
            "\n",
            "    accuracy                           0.70        20\n",
            "   macro avg       0.69      0.67      0.67        20\n",
            "weighted avg       0.70      0.70      0.69        20\n",
            "\n"
          ]
        }
      ],
      "source": [
        "from sklearn.ensemble import RandomForestClassifier\n",
        "\n",
        "# Criar o modelo de Random Forest\n",
        "rf_model = RandomForestClassifier(n_estimators=100, random_state=42)\n",
        "\n",
        "# Treinar o modelo\n",
        "rf_model.fit(X_train, y_train)\n",
        "\n",
        "# Fazer previsões\n",
        "y_pred_rf = rf_model.predict(X_test)\n",
        "\n",
        "# Avaliar o desempenho\n",
        "print(\"Desempenho do Random Forest:\")\n",
        "print(f\"Acurácia: {accuracy_score(y_test, y_pred_rf):.2f}\")\n",
        "print(\"\\nRelatório de Classificação:\")\n",
        "print(classification_report(y_test, y_pred_rf))\n",
        "\n"
      ]
    },
    {
      "cell_type": "code",
      "execution_count": 368,
      "metadata": {
        "colab": {
          "base_uri": "https://localhost:8080/"
        },
        "id": "8CMl5LuU2shn",
        "outputId": "f148b41d-0d0a-4993-b9c8-253a42967546"
      },
      "outputs": [
        {
          "output_type": "stream",
          "name": "stdout",
          "text": [
            "Acurácia média (validação cruzada) - Regressão Logística: 0.39\n",
            "Acurácia média (validação cruzada) - Random Forest: 0.50\n"
          ]
        }
      ],
      "source": [
        "from sklearn.model_selection import cross_val_score\n",
        "\n",
        "# Validação cruzada para Regressão Logística\n",
        "log_reg_scores = cross_val_score(LogisticRegression(random_state=42, max_iter=1000), X, y, cv=5, scoring='accuracy')\n",
        "print(f\"Acurácia média (validação cruzada) - Regressão Logística: {log_reg_scores.mean():.2f}\")\n",
        "\n",
        "# Validação cruzada para Random Forest\n",
        "rf_scores = cross_val_score(RandomForestClassifier(n_estimators=100, random_state=42), X, y, cv=5, scoring='accuracy')\n",
        "print(f\"Acurácia média (validação cruzada) - Random Forest: {rf_scores.mean():.2f}\")\n"
      ]
    },
    {
      "cell_type": "code",
      "execution_count": 369,
      "metadata": {
        "colab": {
          "base_uri": "https://localhost:8080/",
          "height": 622
        },
        "id": "QztHSGqH6NUW",
        "outputId": "88ef708e-c025-42c8-c74b-e18e033520f5"
      },
      "outputs": [
        {
          "output_type": "display_data",
          "data": {
            "text/plain": [
              "<Figure size 1200x800 with 1 Axes>"
            ],
            "image/png": "[encoded data removed]"
          },
          "metadata": {}
        }
      ],
      "source": [
        "adjusted_feature_names = []\n",
        "for col in X.columns:\n",
        "    if \"Radiant_\" in col or \"Dire_\" in col:\n",
        "        # Extrair o ID do herói do nome da coluna\n",
        "        hero_id = int(col.split(\"_\")[1])  # Extrai o número após \"Radiant_\" ou \"Dire_\"\n",
        "        adjusted_feature_names.append(hero_id_to_name.get(hero_id, f\"Hero_{hero_id}\"))\n",
        "    else:\n",
        "        adjusted_feature_names.append(col)\n",
        "\n",
        "# Importância das features no Random Forest\n",
        "importances = rf_model.feature_importances_\n",
        "indices = importances.argsort()[::-1]\n",
        "\n",
        "# Visualizar as 10 features mais importantes\n",
        "plt.figure(figsize=(12, 8))\n",
        "plt.title(\"Importância das Features\")\n",
        "plt.bar(range(10), importances[indices[:10]], align=\"center\", color='skyblue')\n",
        "\n",
        "# Nomes das features (heróis) no eixo X\n",
        "plt.xticks(range(10), [adjusted_feature_names[i] for i in indices[:10]], rotation=45, ha=\"right\")\n",
        "plt.xlabel(\"Heróis\")\n",
        "plt.ylabel(\"Importância\")\n",
        "plt.tight_layout()\n",
        "plt.show()\n",
        "\n"
      ]
    },
    {
      "cell_type": "code",
      "execution_count": 370,
      "metadata": {
        "colab": {
          "base_uri": "https://localhost:8080/"
        },
        "id": "Nb8yzuPh7COJ",
        "outputId": "5da8d197-a94d-42af-f34d-504c444728b2"
      },
      "outputs": [
        {
          "output_type": "stream",
          "name": "stdout",
          "text": [
            "Acurácia no conjunto de treino: 1.00\n",
            "Acurácia no conjunto de teste: 0.65\n"
          ]
        }
      ],
      "source": [
        "print(f\"Acurácia no conjunto de treino: {log_reg_model.score(X_train, y_train):.2f}\")\n",
        "print(f\"Acurácia no conjunto de teste: {log_reg_model.score(X_test, y_test):.2f}\")\n"
      ]
    },
    {
      "cell_type": "code",
      "execution_count": 371,
      "metadata": {
        "colab": {
          "base_uri": "https://localhost:8080/"
        },
        "id": "oWi_6cVB7FmM",
        "outputId": "a8f415d1-2eb0-4738-e501-9b81fd0f1c41"
      },
      "outputs": [
        {
          "output_type": "stream",
          "name": "stdout",
          "text": [
            "Acurácia no conjunto de treino: 1.00\n",
            "Acurácia no conjunto de teste: 0.70\n"
          ]
        }
      ],
      "source": [
        "print(f\"Acurácia no conjunto de treino: {rf_model.score(X_train, y_train):.2f}\")\n",
        "print(f\"Acurácia no conjunto de teste: {rf_model.score(X_test, y_test):.2f}\")\n"
      ]
    }
  ],
  "metadata": {
    "colab": {
      "provenance": [],
      "authorship_tag": "ABX9TyM/eQm2qnnHLLIBM8ZZMgyE",
      "include_colab_link": true
    },
    "kernelspec": {
      "display_name": "Python 3",
      "name": "python3"
    },
    "language_info": {
      "name": "python"
    }
  },
  "nbformat": 4,
  "nbformat_minor": 0
}